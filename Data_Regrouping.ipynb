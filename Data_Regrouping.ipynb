{
 "cells": [
  {
   "cell_type": "markdown",
   "metadata": {},
   "source": [
    "# <b>Туториал по группировке табличных  данных в Julia<b>"
   ]
  },
  {
   "cell_type": "markdown",
   "metadata": {},
   "source": [
    "Подготовили студенты группы БЭК182 НИУ ВШЭ ОП \"Экономика\":"
   ]
  },
  {
   "cell_type": "markdown",
   "metadata": {},
   "source": [
    "София Баграмян, \n",
    "Мантуленко Леон, \n",
    "Валентин Брусенский"
   ]
  },
  {
   "cell_type": "markdown",
   "metadata": {},
   "source": [
    "# Как загрузить Julia в Jupyter notebook "
   ]
  },
  {
   "cell_type": "markdown",
   "metadata": {},
   "source": [
    "<b> Шаг 1 <b>"
   ]
  },
  {
   "cell_type": "markdown",
   "metadata": {},
   "source": [
    "Скачать Julia https://julialang.org/downloads/ "
   ]
  },
  {
   "cell_type": "markdown",
   "metadata": {},
   "source": [
    "<b>Шаг 2<b>"
   ]
  },
  {
   "cell_type": "markdown",
   "metadata": {},
   "source": [
    "Откройте командную строку Julia"
   ]
  },
  {
   "cell_type": "markdown",
   "metadata": {},
   "source": [
    "<b>Шаг 3<b> Добавьте Julia в Julyter notebook"
   ]
  },
  {
   "cell_type": "markdown",
   "metadata": {},
   "source": [
    "Для этого введите в командную строку: using Pkg и нажмите Enter"
   ]
  },
  {
   "cell_type": "markdown",
   "metadata": {},
   "source": [
    "Затем, введите в командную строку : Pkg.add (\"IJulia\") и нажмите Enter"
   ]
  },
  {
   "cell_type": "markdown",
   "metadata": {},
   "source": [
    "<b>Шаг 4<b> Создайте новый блокнот"
   ]
  },
  {
   "cell_type": "markdown",
   "metadata": {},
   "source": [
    "Для этого нажмите на New, затем выберите Julia из раскрывающего списка"
   ]
  },
  {
   "cell_type": "markdown",
   "metadata": {},
   "source": [
    "# Работа с данными"
   ]
  },
  {
   "cell_type": "code",
   "execution_count": 1,
   "metadata": {},
   "outputs": [],
   "source": [
    "using BenchmarkTools\n",
    "using DataFrames\n",
    "using DelimitedFiles\n",
    "using CSV\n",
    "using XLSX\n",
    "using Random\n",
    "using FreqTables\n",
    "using Pipe"
   ]
  },
  {
   "cell_type": "markdown",
   "metadata": {},
   "source": [
    "<b> Базовые операции с DataFrame <b>"
   ]
  },
  {
   "cell_type": "markdown",
   "metadata": {},
   "source": [
    "Создание DataFrames"
   ]
  },
  {
   "cell_type": "code",
   "execution_count": 5,
   "metadata": {},
   "outputs": [
    {
     "data": {
      "text/html": [
       "<table class=\"data-frame\"><thead><tr><th></th><th>A</th><th>B</th><th>C</th><th>fixed</th></tr><tr><th></th><th>Int64</th><th>Float64</th><th>String</th><th>Int64</th></tr></thead><tbody><p>3 rows × 4 columns</p><tr><th>1</th><td>1</td><td>0.0831358</td><td>DC7</td><td>1</td></tr><tr><th>2</th><td>2</td><td>0.255637</td><td>GVS</td><td>1</td></tr><tr><th>3</th><td>3</td><td>0.772842</td><td>1l6</td><td>1</td></tr></tbody></table>"
      ],
      "text/latex": [
       "\\begin{tabular}{r|cccc}\n",
       "\t& A & B & C & fixed\\\\\n",
       "\t\\hline\n",
       "\t& Int64 & Float64 & String & Int64\\\\\n",
       "\t\\hline\n",
       "\t1 & 1 & 0.0831358 & DC7 & 1 \\\\\n",
       "\t2 & 2 & 0.255637 & GVS & 1 \\\\\n",
       "\t3 & 3 & 0.772842 & 1l6 & 1 \\\\\n",
       "\\end{tabular}\n"
      ],
      "text/plain": [
       "\u001b[1m3×4 DataFrame\u001b[0m\n",
       "\u001b[1m Row \u001b[0m│\u001b[1m A     \u001b[0m\u001b[1m B         \u001b[0m\u001b[1m C      \u001b[0m\u001b[1m fixed \u001b[0m\n",
       "\u001b[1m     \u001b[0m│\u001b[90m Int64 \u001b[0m\u001b[90m Float64   \u001b[0m\u001b[90m String \u001b[0m\u001b[90m Int64 \u001b[0m\n",
       "─────┼─────────────────────────────────\n",
       "   1 │     1  0.0831358  DC7         1\n",
       "   2 │     2  0.255637   GVS         1\n",
       "   3 │     3  0.772842   1l6         1"
      ]
     },
     "execution_count": 5,
     "metadata": {},
     "output_type": "execute_result"
    }
   ],
   "source": [
    "DataFrame(A=1:3, B=rand(3), C=randstring.([3,3,3]), fixed=1)\n",
    "#Первая строка - это название столбцов, вторая - тип данных."
   ]
  },
  {
   "cell_type": "code",
   "execution_count": 14,
   "metadata": {},
   "outputs": [
    {
     "data": {
      "text/html": [
       "<table class=\"data-frame\"><thead><tr><th></th></tr><tr><th></th></tr></thead><tbody><p>0 rows × 0 columns</p></tbody></table>"
      ],
      "text/latex": [
       "\\begin{tabular}{r|}\n",
       "\t& \\\\\n",
       "\t\\hline\n",
       "\t& \\\\\n",
       "\t\\hline\n",
       "\\end{tabular}\n"
      ],
      "text/plain": [
       "\u001b[1m0×0 DataFrame\u001b[0m"
      ]
     },
     "execution_count": 14,
     "metadata": {},
     "output_type": "execute_result"
    }
   ],
   "source": [
    "DataFrame()"
   ]
  },
  {
   "cell_type": "code",
   "execution_count": 6,
   "metadata": {},
   "outputs": [
    {
     "data": {
      "text/html": [
       "<table class=\"data-frame\"><thead><tr><th></th><th>x1</th><th>x2</th><th>x3</th></tr><tr><th></th><th>Float64</th><th>Float64</th><th>Float64</th></tr></thead><tbody><p>3 rows × 3 columns</p><tr><th>1</th><td>0.484189</td><td>0.0439289</td><td>0.278569</td></tr><tr><th>2</th><td>0.0963102</td><td>0.732918</td><td>0.521289</td></tr><tr><th>3</th><td>0.0239889</td><td>0.596773</td><td>0.232375</td></tr></tbody></table>"
      ],
      "text/latex": [
       "\\begin{tabular}{r|ccc}\n",
       "\t& x1 & x2 & x3\\\\\n",
       "\t\\hline\n",
       "\t& Float64 & Float64 & Float64\\\\\n",
       "\t\\hline\n",
       "\t1 & 0.484189 & 0.0439289 & 0.278569 \\\\\n",
       "\t2 & 0.0963102 & 0.732918 & 0.521289 \\\\\n",
       "\t3 & 0.0239889 & 0.596773 & 0.232375 \\\\\n",
       "\\end{tabular}\n"
      ],
      "text/plain": [
       "\u001b[1m3×3 DataFrame\u001b[0m\n",
       "\u001b[1m Row \u001b[0m│\u001b[1m x1        \u001b[0m\u001b[1m x2        \u001b[0m\u001b[1m x3       \u001b[0m\n",
       "\u001b[1m     \u001b[0m│\u001b[90m Float64   \u001b[0m\u001b[90m Float64   \u001b[0m\u001b[90m Float64  \u001b[0m\n",
       "─────┼────────────────────────────────\n",
       "   1 │ 0.484189   0.0439289  0.278569\n",
       "   2 │ 0.0963102  0.732918   0.521289\n",
       "   3 │ 0.0239889  0.596773   0.232375"
      ]
     },
     "execution_count": 6,
     "metadata": {},
     "output_type": "execute_result"
    }
   ],
   "source": [
    "#  создаем DataFrame 3 на 3 с данными сгенерированными случайно\n",
    "DataFrame([rand(3) for i in 1:3], :auto)"
   ]
  },
  {
   "cell_type": "code",
   "execution_count": 11,
   "metadata": {},
   "outputs": [
    {
     "data": {
      "text/html": [
       "<table class=\"data-frame\"><thead><tr><th></th><th>x1</th><th>x2</th><th>x3</th><th>x4</th></tr><tr><th></th><th>Int64</th><th>Int64</th><th>Int64</th><th>Int64</th></tr></thead><tbody><p>2 rows × 4 columns</p><tr><th>1</th><td>1</td><td>2</td><td>3</td><td>4</td></tr><tr><th>2</th><td>2</td><td>3</td><td>6</td><td>7</td></tr></tbody></table>"
      ],
      "text/latex": [
       "\\begin{tabular}{r|cccc}\n",
       "\t& x1 & x2 & x3 & x4\\\\\n",
       "\t\\hline\n",
       "\t& Int64 & Int64 & Int64 & Int64\\\\\n",
       "\t\\hline\n",
       "\t1 & 1 & 2 & 3 & 4 \\\\\n",
       "\t2 & 2 & 3 & 6 & 7 \\\\\n",
       "\\end{tabular}\n"
      ],
      "text/plain": [
       "\u001b[1m2×4 DataFrame\u001b[0m\n",
       "\u001b[1m Row \u001b[0m│\u001b[1m x1    \u001b[0m\u001b[1m x2    \u001b[0m\u001b[1m x3    \u001b[0m\u001b[1m x4    \u001b[0m\n",
       "\u001b[1m     \u001b[0m│\u001b[90m Int64 \u001b[0m\u001b[90m Int64 \u001b[0m\u001b[90m Int64 \u001b[0m\u001b[90m Int64 \u001b[0m\n",
       "─────┼────────────────────────────\n",
       "   1 │     1      2      3      4\n",
       "   2 │     2      3      6      7"
      ]
     },
     "execution_count": 11,
     "metadata": {},
     "output_type": "execute_result"
    }
   ],
   "source": [
    "# Также DataFrame может быть создан из массива данных\n",
    "f = [1 2 3 4; 2 3 6 7]\n",
    "df = DataFrame(f, :auto)"
   ]
  },
  {
   "cell_type": "markdown",
   "metadata": {},
   "source": [
    "Изменение наименования DataFrame"
   ]
  },
  {
   "cell_type": "code",
   "execution_count": 13,
   "metadata": {},
   "outputs": [
    {
     "data": {
      "text/html": [
       "<table class=\"data-frame\"><thead><tr><th></th><th>o1</th><th>o2</th><th>o3</th><th>o4</th></tr><tr><th></th><th>Int64</th><th>Int64</th><th>Int64</th><th>Int64</th></tr></thead><tbody><p>2 rows × 4 columns</p><tr><th>1</th><td>1</td><td>2</td><td>3</td><td>4</td></tr><tr><th>2</th><td>2</td><td>3</td><td>6</td><td>7</td></tr></tbody></table>"
      ],
      "text/latex": [
       "\\begin{tabular}{r|cccc}\n",
       "\t& o1 & o2 & o3 & o4\\\\\n",
       "\t\\hline\n",
       "\t& Int64 & Int64 & Int64 & Int64\\\\\n",
       "\t\\hline\n",
       "\t1 & 1 & 2 & 3 & 4 \\\\\n",
       "\t2 & 2 & 3 & 6 & 7 \\\\\n",
       "\\end{tabular}\n"
      ],
      "text/plain": [
       "\u001b[1m2×4 DataFrame\u001b[0m\n",
       "\u001b[1m Row \u001b[0m│\u001b[1m o1    \u001b[0m\u001b[1m o2    \u001b[0m\u001b[1m o3    \u001b[0m\u001b[1m o4    \u001b[0m\n",
       "\u001b[1m     \u001b[0m│\u001b[90m Int64 \u001b[0m\u001b[90m Int64 \u001b[0m\u001b[90m Int64 \u001b[0m\u001b[90m Int64 \u001b[0m\n",
       "─────┼────────────────────────────\n",
       "   1 │     1      2      3      4\n",
       "   2 │     2      3      6      7"
      ]
     },
     "execution_count": 13,
     "metadata": {},
     "output_type": "execute_result"
    }
   ],
   "source": [
    "# Создаем одномерный вектор и используем его,чтобы переименновывать наш DataFrame\n",
    "newnames = vec(string.([\"o\"], [1 2 3 4]))\n",
    "rename!(df, newnames)"
   ]
  },
  {
   "cell_type": "code",
   "execution_count": 12,
   "metadata": {},
   "outputs": [],
   "source": [
    "df.o1"
   ]
  },
  {
   "cell_type": "markdown",
   "metadata": {},
   "source": [
    "Другие возможности при использовании DataFrames"
   ]
  },
  {
   "cell_type": "code",
   "execution_count": 16,
   "metadata": {},
   "outputs": [
    {
     "data": {
      "text/plain": [
       "4"
      ]
     },
     "execution_count": 16,
     "metadata": {},
     "output_type": "execute_result"
    }
   ],
   "source": [
    "# Мы можем обращаться к любому из элементов DataFrame, используя  его положение внутри DataFrame\n",
    "#(Так например в этой строке кода мы обращаемся к четвортому элементу первой строки ) \n",
    "df[1,4]"
   ]
  },
  {
   "cell_type": "code",
   "execution_count": 19,
   "metadata": {},
   "outputs": [
    {
     "data": {
      "text/html": [
       "<table class=\"data-frame\"><thead><tr><th></th><th>x1</th><th>x2</th><th>x3</th><th>x4</th><th>x5</th><th>x6</th><th>x7</th><th>x8</th></tr><tr><th></th><th>Float64</th><th>Float64</th><th>Float64</th><th>Float64</th><th>Float64</th><th>Float64</th><th>Float64</th><th>Float64</th></tr></thead><tbody><p>100 rows × 100 columns (omitted printing of 92 columns)</p><tr><th>1</th><td>0.872865</td><td>0.415275</td><td>0.967888</td><td>0.844767</td><td>0.773876</td><td>0.962086</td><td>0.771241</td><td>0.724546</td></tr><tr><th>2</th><td>0.296362</td><td>0.663447</td><td>0.299279</td><td>0.693191</td><td>0.0501494</td><td>0.0530263</td><td>0.0966304</td><td>0.445434</td></tr><tr><th>3</th><td>0.606612</td><td>0.552338</td><td>0.909579</td><td>0.00579166</td><td>0.773416</td><td>0.891875</td><td>0.0247274</td><td>0.731326</td></tr><tr><th>4</th><td>0.771045</td><td>0.224379</td><td>0.865029</td><td>0.468023</td><td>0.768055</td><td>0.756551</td><td>0.395848</td><td>0.217582</td></tr><tr><th>5</th><td>0.512621</td><td>0.850955</td><td>0.702478</td><td>0.13925</td><td>0.305645</td><td>0.65892</td><td>0.183539</td><td>0.144042</td></tr><tr><th>6</th><td>0.442167</td><td>0.552254</td><td>0.417653</td><td>0.496587</td><td>0.939035</td><td>0.58741</td><td>0.72659</td><td>0.518858</td></tr><tr><th>7</th><td>0.748743</td><td>0.899442</td><td>0.82499</td><td>0.386457</td><td>0.0685745</td><td>0.327398</td><td>0.918041</td><td>0.315013</td></tr><tr><th>8</th><td>0.204973</td><td>0.250753</td><td>0.0184966</td><td>0.016652</td><td>0.0557201</td><td>0.327199</td><td>0.0928167</td><td>0.241054</td></tr><tr><th>9</th><td>0.748461</td><td>0.762002</td><td>0.841992</td><td>0.811993</td><td>0.789274</td><td>0.592373</td><td>0.404974</td><td>0.325184</td></tr><tr><th>10</th><td>0.947582</td><td>0.15352</td><td>0.994559</td><td>0.203542</td><td>0.674644</td><td>0.59631</td><td>0.631128</td><td>0.464495</td></tr><tr><th>11</th><td>0.423028</td><td>0.525102</td><td>0.535402</td><td>0.673822</td><td>0.202794</td><td>0.920789</td><td>0.791499</td><td>0.210937</td></tr><tr><th>12</th><td>0.397356</td><td>0.672934</td><td>0.344884</td><td>0.72682</td><td>0.11962</td><td>0.0556041</td><td>0.379942</td><td>0.305181</td></tr><tr><th>13</th><td>0.0103111</td><td>0.126705</td><td>0.500228</td><td>0.934151</td><td>0.169687</td><td>0.0958922</td><td>0.803081</td><td>0.581209</td></tr><tr><th>14</th><td>0.905336</td><td>0.323985</td><td>0.954323</td><td>0.341744</td><td>0.65201</td><td>0.846648</td><td>0.307118</td><td>0.634937</td></tr><tr><th>15</th><td>0.880474</td><td>0.184067</td><td>0.901559</td><td>0.538887</td><td>0.630638</td><td>0.51209</td><td>0.445426</td><td>0.898785</td></tr><tr><th>16</th><td>0.757682</td><td>0.163193</td><td>0.665071</td><td>0.416468</td><td>0.590241</td><td>0.75855</td><td>0.475438</td><td>0.187037</td></tr><tr><th>17</th><td>0.836981</td><td>0.937056</td><td>0.160869</td><td>0.256105</td><td>0.921305</td><td>0.365567</td><td>0.59606</td><td>0.504902</td></tr><tr><th>18</th><td>0.927202</td><td>0.527371</td><td>0.777735</td><td>0.433531</td><td>0.37338</td><td>0.483763</td><td>0.99638</td><td>0.160583</td></tr><tr><th>19</th><td>0.720099</td><td>0.487713</td><td>0.706864</td><td>0.878086</td><td>0.933803</td><td>0.429478</td><td>0.0769138</td><td>0.0285163</td></tr><tr><th>20</th><td>0.287289</td><td>0.450494</td><td>0.280423</td><td>0.513321</td><td>0.290616</td><td>0.876852</td><td>0.976161</td><td>0.894266</td></tr><tr><th>21</th><td>0.318294</td><td>0.133722</td><td>0.181249</td><td>0.100435</td><td>0.978667</td><td>0.915358</td><td>0.859249</td><td>0.193318</td></tr><tr><th>22</th><td>0.842355</td><td>0.538912</td><td>0.795487</td><td>0.44182</td><td>0.882888</td><td>0.177634</td><td>0.101366</td><td>0.759595</td></tr><tr><th>23</th><td>0.573251</td><td>0.509348</td><td>0.509026</td><td>0.278376</td><td>0.0126243</td><td>0.515338</td><td>0.723819</td><td>0.179498</td></tr><tr><th>24</th><td>0.537712</td><td>0.572848</td><td>0.907923</td><td>0.737318</td><td>0.316067</td><td>0.330492</td><td>0.0948219</td><td>0.593855</td></tr><tr><th>25</th><td>0.134934</td><td>0.234706</td><td>0.0270221</td><td>0.49325</td><td>0.863201</td><td>0.267464</td><td>0.831688</td><td>0.428094</td></tr><tr><th>26</th><td>0.199029</td><td>0.296617</td><td>0.264418</td><td>0.496553</td><td>0.314964</td><td>0.182437</td><td>0.0710898</td><td>0.130812</td></tr><tr><th>27</th><td>0.434441</td><td>0.423052</td><td>0.53243</td><td>0.230942</td><td>0.376978</td><td>0.980833</td><td>0.268186</td><td>0.472279</td></tr><tr><th>28</th><td>0.394496</td><td>0.160001</td><td>0.863126</td><td>0.413679</td><td>0.0179393</td><td>0.367004</td><td>0.778759</td><td>0.133072</td></tr><tr><th>29</th><td>0.736717</td><td>0.668557</td><td>0.701526</td><td>0.846232</td><td>0.396174</td><td>0.47624</td><td>0.803744</td><td>0.556665</td></tr><tr><th>30</th><td>0.521535</td><td>0.585303</td><td>0.46517</td><td>0.830276</td><td>0.378296</td><td>0.322235</td><td>0.119948</td><td>0.951761</td></tr><tr><th>&vellip;</th><td>&vellip;</td><td>&vellip;</td><td>&vellip;</td><td>&vellip;</td><td>&vellip;</td><td>&vellip;</td><td>&vellip;</td><td>&vellip;</td></tr></tbody></table>"
      ],
      "text/latex": [
       "\\begin{tabular}{r|ccccccccc}\n",
       "\t& x1 & x2 & x3 & x4 & x5 & x6 & x7 & x8 & \\\\\n",
       "\t\\hline\n",
       "\t& Float64 & Float64 & Float64 & Float64 & Float64 & Float64 & Float64 & Float64 & \\\\\n",
       "\t\\hline\n",
       "\t1 & 0.872865 & 0.415275 & 0.967888 & 0.844767 & 0.773876 & 0.962086 & 0.771241 & 0.724546 & $\\dots$ \\\\\n",
       "\t2 & 0.296362 & 0.663447 & 0.299279 & 0.693191 & 0.0501494 & 0.0530263 & 0.0966304 & 0.445434 & $\\dots$ \\\\\n",
       "\t3 & 0.606612 & 0.552338 & 0.909579 & 0.00579166 & 0.773416 & 0.891875 & 0.0247274 & 0.731326 & $\\dots$ \\\\\n",
       "\t4 & 0.771045 & 0.224379 & 0.865029 & 0.468023 & 0.768055 & 0.756551 & 0.395848 & 0.217582 & $\\dots$ \\\\\n",
       "\t5 & 0.512621 & 0.850955 & 0.702478 & 0.13925 & 0.305645 & 0.65892 & 0.183539 & 0.144042 & $\\dots$ \\\\\n",
       "\t6 & 0.442167 & 0.552254 & 0.417653 & 0.496587 & 0.939035 & 0.58741 & 0.72659 & 0.518858 & $\\dots$ \\\\\n",
       "\t7 & 0.748743 & 0.899442 & 0.82499 & 0.386457 & 0.0685745 & 0.327398 & 0.918041 & 0.315013 & $\\dots$ \\\\\n",
       "\t8 & 0.204973 & 0.250753 & 0.0184966 & 0.016652 & 0.0557201 & 0.327199 & 0.0928167 & 0.241054 & $\\dots$ \\\\\n",
       "\t9 & 0.748461 & 0.762002 & 0.841992 & 0.811993 & 0.789274 & 0.592373 & 0.404974 & 0.325184 & $\\dots$ \\\\\n",
       "\t10 & 0.947582 & 0.15352 & 0.994559 & 0.203542 & 0.674644 & 0.59631 & 0.631128 & 0.464495 & $\\dots$ \\\\\n",
       "\t11 & 0.423028 & 0.525102 & 0.535402 & 0.673822 & 0.202794 & 0.920789 & 0.791499 & 0.210937 & $\\dots$ \\\\\n",
       "\t12 & 0.397356 & 0.672934 & 0.344884 & 0.72682 & 0.11962 & 0.0556041 & 0.379942 & 0.305181 & $\\dots$ \\\\\n",
       "\t13 & 0.0103111 & 0.126705 & 0.500228 & 0.934151 & 0.169687 & 0.0958922 & 0.803081 & 0.581209 & $\\dots$ \\\\\n",
       "\t14 & 0.905336 & 0.323985 & 0.954323 & 0.341744 & 0.65201 & 0.846648 & 0.307118 & 0.634937 & $\\dots$ \\\\\n",
       "\t15 & 0.880474 & 0.184067 & 0.901559 & 0.538887 & 0.630638 & 0.51209 & 0.445426 & 0.898785 & $\\dots$ \\\\\n",
       "\t16 & 0.757682 & 0.163193 & 0.665071 & 0.416468 & 0.590241 & 0.75855 & 0.475438 & 0.187037 & $\\dots$ \\\\\n",
       "\t17 & 0.836981 & 0.937056 & 0.160869 & 0.256105 & 0.921305 & 0.365567 & 0.59606 & 0.504902 & $\\dots$ \\\\\n",
       "\t18 & 0.927202 & 0.527371 & 0.777735 & 0.433531 & 0.37338 & 0.483763 & 0.99638 & 0.160583 & $\\dots$ \\\\\n",
       "\t19 & 0.720099 & 0.487713 & 0.706864 & 0.878086 & 0.933803 & 0.429478 & 0.0769138 & 0.0285163 & $\\dots$ \\\\\n",
       "\t20 & 0.287289 & 0.450494 & 0.280423 & 0.513321 & 0.290616 & 0.876852 & 0.976161 & 0.894266 & $\\dots$ \\\\\n",
       "\t21 & 0.318294 & 0.133722 & 0.181249 & 0.100435 & 0.978667 & 0.915358 & 0.859249 & 0.193318 & $\\dots$ \\\\\n",
       "\t22 & 0.842355 & 0.538912 & 0.795487 & 0.44182 & 0.882888 & 0.177634 & 0.101366 & 0.759595 & $\\dots$ \\\\\n",
       "\t23 & 0.573251 & 0.509348 & 0.509026 & 0.278376 & 0.0126243 & 0.515338 & 0.723819 & 0.179498 & $\\dots$ \\\\\n",
       "\t24 & 0.537712 & 0.572848 & 0.907923 & 0.737318 & 0.316067 & 0.330492 & 0.0948219 & 0.593855 & $\\dots$ \\\\\n",
       "\t25 & 0.134934 & 0.234706 & 0.0270221 & 0.49325 & 0.863201 & 0.267464 & 0.831688 & 0.428094 & $\\dots$ \\\\\n",
       "\t26 & 0.199029 & 0.296617 & 0.264418 & 0.496553 & 0.314964 & 0.182437 & 0.0710898 & 0.130812 & $\\dots$ \\\\\n",
       "\t27 & 0.434441 & 0.423052 & 0.53243 & 0.230942 & 0.376978 & 0.980833 & 0.268186 & 0.472279 & $\\dots$ \\\\\n",
       "\t28 & 0.394496 & 0.160001 & 0.863126 & 0.413679 & 0.0179393 & 0.367004 & 0.778759 & 0.133072 & $\\dots$ \\\\\n",
       "\t29 & 0.736717 & 0.668557 & 0.701526 & 0.846232 & 0.396174 & 0.47624 & 0.803744 & 0.556665 & $\\dots$ \\\\\n",
       "\t30 & 0.521535 & 0.585303 & 0.46517 & 0.830276 & 0.378296 & 0.322235 & 0.119948 & 0.951761 & $\\dots$ \\\\\n",
       "\t$\\dots$ & $\\dots$ & $\\dots$ & $\\dots$ & $\\dots$ & $\\dots$ & $\\dots$ & $\\dots$ & $\\dots$ &  \\\\\n",
       "\\end{tabular}\n"
      ],
      "text/plain": [
       "\u001b[1m100×100 DataFrame\u001b[0m\n",
       "\u001b[1m Row \u001b[0m│\u001b[1m x1        \u001b[0m\u001b[1m x2        \u001b[0m\u001b[1m x3        \u001b[0m\u001b[1m x4         \u001b[0m\u001b[1m x5        \u001b[0m\u001b[1m x6        \u001b[0m\u001b[1m x7  \u001b[0m ⋯\n",
       "\u001b[1m     \u001b[0m│\u001b[90m Float64   \u001b[0m\u001b[90m Float64   \u001b[0m\u001b[90m Float64   \u001b[0m\u001b[90m Float64    \u001b[0m\u001b[90m Float64   \u001b[0m\u001b[90m Float64   \u001b[0m\u001b[90m Floa\u001b[0m ⋯\n",
       "─────┼──────────────────────────────────────────────────────────────────────────\n",
       "   1 │ 0.872865   0.415275   0.967888   0.844767    0.773876   0.962086   0.77 ⋯\n",
       "   2 │ 0.296362   0.663447   0.299279   0.693191    0.0501494  0.0530263  0.09\n",
       "   3 │ 0.606612   0.552338   0.909579   0.00579166  0.773416   0.891875   0.02\n",
       "   4 │ 0.771045   0.224379   0.865029   0.468023    0.768055   0.756551   0.39\n",
       "   5 │ 0.512621   0.850955   0.702478   0.13925     0.305645   0.65892    0.18 ⋯\n",
       "   6 │ 0.442167   0.552254   0.417653   0.496587    0.939035   0.58741    0.72\n",
       "   7 │ 0.748743   0.899442   0.82499    0.386457    0.0685745  0.327398   0.91\n",
       "   8 │ 0.204973   0.250753   0.0184966  0.016652    0.0557201  0.327199   0.09\n",
       "   9 │ 0.748461   0.762002   0.841992   0.811993    0.789274   0.592373   0.40 ⋯\n",
       "  10 │ 0.947582   0.15352    0.994559   0.203542    0.674644   0.59631    0.63\n",
       "  11 │ 0.423028   0.525102   0.535402   0.673822    0.202794   0.920789   0.79\n",
       "  ⋮  │     ⋮          ⋮          ⋮          ⋮           ⋮          ⋮           ⋱\n",
       "  91 │ 0.578068   0.588437   0.126845   0.585807    0.0765554  0.402061   0.06\n",
       "  92 │ 0.514235   0.552025   0.443365   0.795007    0.369997   0.378301   0.60 ⋯\n",
       "  93 │ 0.760223   0.733137   0.322951   0.673074    0.289178   0.363167   0.70\n",
       "  94 │ 0.338433   0.733972   0.0958301  0.914954    0.221332   0.721049   0.73\n",
       "  95 │ 0.663945   0.737693   0.728547   0.12766     0.314373   0.0681191  0.82\n",
       "  96 │ 0.841048   0.147498   0.663691   0.363602    0.351708   0.169864   0.35 ⋯\n",
       "  97 │ 0.338179   0.0233569  0.2011     0.969056    0.479657   0.74644    0.79\n",
       "  98 │ 0.146579   0.472947   0.19522    0.306817    0.216477   0.66925    0.91\n",
       "  99 │ 0.666955   0.57562    0.169729   0.453702    0.36554    0.550049   0.96\n",
       " 100 │ 0.377784   0.596409   0.0507311  0.238545    0.427363   0.550603   0.30 ⋯\n",
       "\u001b[36m                                                  94 columns and 79 rows omitted\u001b[0m"
      ]
     },
     "execution_count": 19,
     "metadata": {},
     "output_type": "execute_result"
    }
   ],
   "source": [
    "#  поиск любого элемента внутри DataFrame очень полезен если объем данных с которым вы работаете внушителен, потому генерируем DataFrame размера 100X100\n",
    "df1 = DataFrame(rand(100, 100), :auto)"
   ]
  },
  {
   "cell_type": "code",
   "execution_count": null,
   "metadata": {},
   "outputs": [],
   "source": [
    "# Используя данную функцию можно получить первый элемент данного DataFrame\n",
    "first(df1)"
   ]
  },
  {
   "cell_type": "code",
   "execution_count": 21,
   "metadata": {},
   "outputs": [
    {
     "data": {
      "text/html": [
       "<p>DataFrameRow (100 columns)</p><table class=\"data-frame\"><thead><tr><th></th><th>x1</th><th>x2</th><th>x3</th><th>x4</th><th>x5</th><th>x6</th><th>x7</th><th>x8</th></tr><tr><th></th><th>Float64</th><th>Float64</th><th>Float64</th><th>Float64</th><th>Float64</th><th>Float64</th><th>Float64</th><th>Float64</th></tr></thead><tbody><tr><th>100</th><td>0.377784</td><td>0.596409</td><td>0.0507311</td><td>0.238545</td><td>0.427363</td><td>0.550603</td><td>0.309205</td><td>0.341627</td></tr></tbody></table>"
      ],
      "text/latex": [
       "\\begin{tabular}{r|ccccccccc}\n",
       "\t& x1 & x2 & x3 & x4 & x5 & x6 & x7 & x8 & \\\\\n",
       "\t\\hline\n",
       "\t& Float64 & Float64 & Float64 & Float64 & Float64 & Float64 & Float64 & Float64 & \\\\\n",
       "\t\\hline\n",
       "\t100 & 0.377784 & 0.596409 & 0.0507311 & 0.238545 & 0.427363 & 0.550603 & 0.309205 & 0.341627 & $\\dots$ \\\\\n",
       "\\end{tabular}\n"
      ],
      "text/plain": [
       "\u001b[1mDataFrameRow\u001b[0m\n",
       "\u001b[1m Row \u001b[0m│\u001b[1m x1       \u001b[0m\u001b[1m x2       \u001b[0m\u001b[1m x3        \u001b[0m\u001b[1m x4       \u001b[0m\u001b[1m x5       \u001b[0m\u001b[1m x6       \u001b[0m\u001b[1m x7       \u001b[0m\u001b[1m \u001b[0m ⋯\n",
       "\u001b[1m     \u001b[0m│\u001b[90m Float64  \u001b[0m\u001b[90m Float64  \u001b[0m\u001b[90m Float64   \u001b[0m\u001b[90m Float64  \u001b[0m\u001b[90m Float64  \u001b[0m\u001b[90m Float64  \u001b[0m\u001b[90m Float64  \u001b[0m\u001b[90m \u001b[0m ⋯\n",
       "─────┼──────────────────────────────────────────────────────────────────────────\n",
       " 100 │ 0.377784  0.596409  0.0507311  0.238545  0.427363  0.550603  0.309205   ⋯\n",
       "\u001b[36m                                                              93 columns omitted\u001b[0m"
      ]
     },
     "execution_count": 21,
     "metadata": {},
     "output_type": "execute_result"
    }
   ],
   "source": [
    "# Используя данную функцию можно получить последний элемент данного DataFrame\n",
    "last(df1)"
   ]
  },
  {
   "cell_type": "code",
   "execution_count": 53,
   "metadata": {},
   "outputs": [
    {
     "data": {
      "text/html": [
       "<table class=\"data-frame\"><thead><tr><th></th><th>A</th><th>B</th><th>C</th></tr><tr><th></th><th>Int64</th><th>Float64</th><th>String</th></tr></thead><tbody><p>2 rows × 3 columns</p><tr><th>1</th><td>1</td><td>1.0</td><td>a</td></tr><tr><th>2</th><td>2</td><td>3.0</td><td>b</td></tr></tbody></table>"
      ],
      "text/latex": [
       "\\begin{tabular}{r|ccc}\n",
       "\t& A & B & C\\\\\n",
       "\t\\hline\n",
       "\t& Int64 & Float64 & String\\\\\n",
       "\t\\hline\n",
       "\t1 & 1 & 1.0 & a \\\\\n",
       "\t2 & 2 & 3.0 & b \\\\\n",
       "\\end{tabular}\n"
      ],
      "text/plain": [
       "\u001b[1m2×3 DataFrame\u001b[0m\n",
       "\u001b[1m Row \u001b[0m│\u001b[1m A     \u001b[0m\u001b[1m B       \u001b[0m\u001b[1m C      \u001b[0m\n",
       "\u001b[1m     \u001b[0m│\u001b[90m Int64 \u001b[0m\u001b[90m Float64 \u001b[0m\u001b[90m String \u001b[0m\n",
       "─────┼────────────────────────\n",
       "   1 │     1      1.0  a\n",
       "   2 │     2      3.0  b"
      ]
     },
     "execution_count": 53,
     "metadata": {},
     "output_type": "execute_result"
    }
   ],
   "source": [
    "#DataFrame может содержать элементы разных типов (целые и дробные числа или буквы)\n",
    "df2 = DataFrame(A = [1, 2], B = [1.0, 3.0], C = [\"a\", \"b\"])"
   ]
  },
  {
   "cell_type": "code",
   "execution_count": 54,
   "metadata": {},
   "outputs": [
    {
     "data": {
      "text/plain": [
       "(2, 3)"
      ]
     },
     "execution_count": 54,
     "metadata": {},
     "output_type": "execute_result"
    }
   ],
   "source": [
    "# Данная функция показывает размерность DataFrame\n",
    "size(df2)"
   ]
  },
  {
   "cell_type": "code",
   "execution_count": 55,
   "metadata": {},
   "outputs": [
    {
     "data": {
      "text/html": [
       "<table class=\"data-frame\"><thead><tr><th></th><th>variable</th><th>mean</th><th>min</th><th>median</th><th>max</th><th>nmissing</th><th>eltype</th></tr><tr><th></th><th>Symbol</th><th>Union…</th><th>Any</th><th>Union…</th><th>Any</th><th>Int64</th><th>DataType</th></tr></thead><tbody><p>3 rows × 7 columns</p><tr><th>1</th><td>A</td><td>1.5</td><td>1</td><td>1.5</td><td>2</td><td>0</td><td>Int64</td></tr><tr><th>2</th><td>B</td><td>2.0</td><td>1.0</td><td>2.0</td><td>3.0</td><td>0</td><td>Float64</td></tr><tr><th>3</th><td>C</td><td></td><td>a</td><td></td><td>b</td><td>0</td><td>String</td></tr></tbody></table>"
      ],
      "text/latex": [
       "\\begin{tabular}{r|ccccccc}\n",
       "\t& variable & mean & min & median & max & nmissing & eltype\\\\\n",
       "\t\\hline\n",
       "\t& Symbol & Union… & Any & Union… & Any & Int64 & DataType\\\\\n",
       "\t\\hline\n",
       "\t1 & A & 1.5 & 1 & 1.5 & 2 & 0 & Int64 \\\\\n",
       "\t2 & B & 2.0 & 1.0 & 2.0 & 3.0 & 0 & Float64 \\\\\n",
       "\t3 & C &  & a &  & b & 0 & String \\\\\n",
       "\\end{tabular}\n"
      ],
      "text/plain": [
       "\u001b[1m3×7 DataFrame\u001b[0m\n",
       "\u001b[1m Row \u001b[0m│\u001b[1m variable \u001b[0m\u001b[1m mean   \u001b[0m\u001b[1m min \u001b[0m\u001b[1m median \u001b[0m\u001b[1m max \u001b[0m\u001b[1m nmissing \u001b[0m\u001b[1m eltype   \u001b[0m\n",
       "\u001b[1m     \u001b[0m│\u001b[90m Symbol   \u001b[0m\u001b[90m Union… \u001b[0m\u001b[90m Any \u001b[0m\u001b[90m Union… \u001b[0m\u001b[90m Any \u001b[0m\u001b[90m Int64    \u001b[0m\u001b[90m DataType \u001b[0m\n",
       "─────┼────────────────────────────────────────────────────────\n",
       "   1 │ A         1.5     1    1.5     2           0  Int64\n",
       "   2 │ B         2.0     1.0  2.0     3.0         0  Float64\n",
       "   3 │ C        \u001b[90m        \u001b[0m a   \u001b[90m        \u001b[0m b           0  String"
      ]
     },
     "execution_count": 55,
     "metadata": {},
     "output_type": "execute_result"
    }
   ],
   "source": [
    "# Используя соответствующую функцию мы можем получить основное описание элементов DataFrame\n",
    "describe(df2)"
   ]
  },
  {
   "cell_type": "markdown",
   "metadata": {},
   "source": [
    "<b> Работa c CSV <b>"
   ]
  },
  {
   "cell_type": "markdown",
   "metadata": {},
   "source": [
    "Помимо этого julia может быть использована для работы с файлами типа csv"
   ]
  },
  {
   "cell_type": "code",
   "execution_count": 56,
   "metadata": {},
   "outputs": [
    {
     "data": {
      "text/html": [
       "<table class=\"data-frame\"><thead><tr><th></th><th>year</th><th>industry_code_ANZSIC</th><th>industry_name_ANZSIC</th><th>rme_size_grp</th><th>variable</th></tr><tr><th></th><th>Int64</th><th>String</th><th>String</th><th>String</th><th>String</th></tr></thead><tbody><p>5 rows × 7 columns (omitted printing of 2 columns)</p><tr><th>1</th><td>2011</td><td>A</td><td>Agriculture, Forestry and Fishing</td><td>a_0</td><td>Activity unit</td></tr><tr><th>2</th><td>2011</td><td>A</td><td>Agriculture, Forestry and Fishing</td><td>a_0</td><td>Rolling mean employees</td></tr><tr><th>3</th><td>2011</td><td>A</td><td>Agriculture, Forestry and Fishing</td><td>a_0</td><td>Salaries and wages paid</td></tr><tr><th>4</th><td>2011</td><td>A</td><td>Agriculture, Forestry and Fishing</td><td>a_0</td><td>Sales, government funding, grants and subsidies</td></tr><tr><th>5</th><td>2011</td><td>A</td><td>Agriculture, Forestry and Fishing</td><td>a_0</td><td>Total income</td></tr></tbody></table>"
      ],
      "text/latex": [
       "\\begin{tabular}{r|cccccc}\n",
       "\t& year & industry\\_code\\_ANZSIC & industry\\_name\\_ANZSIC & rme\\_size\\_grp & variable & \\\\\n",
       "\t\\hline\n",
       "\t& Int64 & String & String & String & String & \\\\\n",
       "\t\\hline\n",
       "\t1 & 2011 & A & Agriculture, Forestry and Fishing & a\\_0 & Activity unit & $\\dots$ \\\\\n",
       "\t2 & 2011 & A & Agriculture, Forestry and Fishing & a\\_0 & Rolling mean employees & $\\dots$ \\\\\n",
       "\t3 & 2011 & A & Agriculture, Forestry and Fishing & a\\_0 & Salaries and wages paid & $\\dots$ \\\\\n",
       "\t4 & 2011 & A & Agriculture, Forestry and Fishing & a\\_0 & Sales, government funding, grants and subsidies & $\\dots$ \\\\\n",
       "\t5 & 2011 & A & Agriculture, Forestry and Fishing & a\\_0 & Total income & $\\dots$ \\\\\n",
       "\\end{tabular}\n"
      ],
      "text/plain": [
       "\u001b[1m5×7 DataFrame\u001b[0m\n",
       "\u001b[1m Row \u001b[0m│\u001b[1m year  \u001b[0m\u001b[1m industry_code_ANZSIC \u001b[0m\u001b[1m industry_name_ANZSIC              \u001b[0m\u001b[1m rme_siz\u001b[0m ⋯\n",
       "\u001b[1m     \u001b[0m│\u001b[90m Int64 \u001b[0m\u001b[90m String               \u001b[0m\u001b[90m String                            \u001b[0m\u001b[90m String \u001b[0m ⋯\n",
       "─────┼──────────────────────────────────────────────────────────────────────────\n",
       "   1 │  2011  A                     Agriculture, Forestry and Fishing  a_0     ⋯\n",
       "   2 │  2011  A                     Agriculture, Forestry and Fishing  a_0\n",
       "   3 │  2011  A                     Agriculture, Forestry and Fishing  a_0\n",
       "   4 │  2011  A                     Agriculture, Forestry and Fishing  a_0\n",
       "   5 │  2011  A                     Agriculture, Forestry and Fishing  a_0     ⋯\n",
       "\u001b[36m                                                               4 columns omitted\u001b[0m"
      ]
     },
     "execution_count": 56,
     "metadata": {},
     "output_type": "execute_result"
    }
   ],
   "source": [
    "# Выведем первые 5 строк csv данных, переведенных в формат DataFrame\n",
    "using CSV\n",
    "using DataFrames\n",
    "df = CSV.read(\"ann.csv\", DataFrame)\n",
    "first(df, 5)"
   ]
  },
  {
   "cell_type": "code",
   "execution_count": 4,
   "metadata": {},
   "outputs": [
    {
     "data": {
      "text/plain": [
       "13932-element PooledArrays.PooledArray{String,UInt32,1,Array{UInt32,1}}:\n",
       " \"Agriculture, Forestry and Fishing\"\n",
       " \"Agriculture, Forestry and Fishing\"\n",
       " \"Agriculture, Forestry and Fishing\"\n",
       " \"Agriculture, Forestry and Fishing\"\n",
       " \"Agriculture, Forestry and Fishing\"\n",
       " \"Agriculture, Forestry and Fishing\"\n",
       " \"Agriculture, Forestry and Fishing\"\n",
       " \"Agriculture, Forestry and Fishing\"\n",
       " \"Agriculture, Forestry and Fishing\"\n",
       " \"Agriculture, Forestry and Fishing\"\n",
       " \"Agriculture, Forestry and Fishing\"\n",
       " \"Agriculture, Forestry and Fishing\"\n",
       " \"Agriculture, Forestry and Fishing\"\n",
       " ⋮\n",
       " \"Other Services\"\n",
       " \"Other Services\"\n",
       " \"Other Services\"\n",
       " \"All Industries\"\n",
       " \"All Industries\"\n",
       " \"All Industries\"\n",
       " \"All Industries\"\n",
       " \"All Industries\"\n",
       " \"All Industries\"\n",
       " \"All Industries\"\n",
       " \"All Industries\"\n",
       " \"All Industries\""
      ]
     },
     "execution_count": 4,
     "metadata": {},
     "output_type": "execute_result"
    }
   ],
   "source": [
    "#мы можем получить информацию о любом столбце данных\n",
    "df.industry_name_ANZSIC"
   ]
  },
  {
   "cell_type": "markdown",
   "metadata": {},
   "source": [
    "Группировка Данных"
   ]
  },
  {
   "cell_type": "code",
   "execution_count": 5,
   "metadata": {},
   "outputs": [
    {
     "data": {
      "text/html": [
       "<p><b>GroupedDataFrame with 9 groups based on key: variable</b></p><p><i>First Group (1548 rows): variable = \"Activity unit\"</i></p><table class=\"data-frame\"><thead><tr><th></th><th>year</th><th>industry_code_ANZSIC</th><th>industry_name_ANZSIC</th><th>rme_size_grp</th></tr><tr><th></th><th>Int64</th><th>String</th><th>String</th><th>String</th></tr></thead><tbody><tr><th>1</th><td>2011</td><td>A</td><td>Agriculture, Forestry and Fishing</td><td>a_0</td></tr><tr><th>2</th><td>2011</td><td>A</td><td>Agriculture, Forestry and Fishing</td><td>b_1-5</td></tr><tr><th>3</th><td>2011</td><td>A</td><td>Agriculture, Forestry and Fishing</td><td>c_6-9</td></tr><tr><th>4</th><td>2011</td><td>A</td><td>Agriculture, Forestry and Fishing</td><td>d_10-19</td></tr><tr><th>5</th><td>2011</td><td>A</td><td>Agriculture, Forestry and Fishing</td><td>e_20-49</td></tr><tr><th>6</th><td>2011</td><td>A</td><td>Agriculture, Forestry and Fishing</td><td>f_50-99</td></tr><tr><th>7</th><td>2011</td><td>A</td><td>Agriculture, Forestry and Fishing</td><td>g_100-199</td></tr><tr><th>8</th><td>2011</td><td>A</td><td>Agriculture, Forestry and Fishing</td><td>h_200+</td></tr><tr><th>9</th><td>2011</td><td>A</td><td>Agriculture, Forestry and Fishing</td><td>i_Industry_Total</td></tr><tr><th>10</th><td>2011</td><td>B</td><td>Mining</td><td>a_0</td></tr><tr><th>11</th><td>2011</td><td>B</td><td>Mining</td><td>b_1-5</td></tr><tr><th>12</th><td>2011</td><td>B</td><td>Mining</td><td>c_6-9</td></tr><tr><th>13</th><td>2011</td><td>B</td><td>Mining</td><td>d_10-19</td></tr><tr><th>14</th><td>2011</td><td>B</td><td>Mining</td><td>e_20-49</td></tr><tr><th>15</th><td>2011</td><td>B</td><td>Mining</td><td>f_50-99</td></tr><tr><th>16</th><td>2011</td><td>B</td><td>Mining</td><td>g_100-199</td></tr><tr><th>17</th><td>2011</td><td>B</td><td>Mining</td><td>h_200+</td></tr><tr><th>18</th><td>2011</td><td>B</td><td>Mining</td><td>i_Industry_Total</td></tr><tr><th>19</th><td>2011</td><td>C</td><td>Manufacturing</td><td>a_0</td></tr><tr><th>20</th><td>2011</td><td>C</td><td>Manufacturing</td><td>b_1-5</td></tr><tr><th>21</th><td>2011</td><td>C</td><td>Manufacturing</td><td>c_6-9</td></tr><tr><th>22</th><td>2011</td><td>C</td><td>Manufacturing</td><td>d_10-19</td></tr><tr><th>23</th><td>2011</td><td>C</td><td>Manufacturing</td><td>e_20-49</td></tr><tr><th>24</th><td>2011</td><td>C</td><td>Manufacturing</td><td>f_50-99</td></tr><tr><th>25</th><td>2011</td><td>C</td><td>Manufacturing</td><td>g_100-199</td></tr><tr><th>26</th><td>2011</td><td>C</td><td>Manufacturing</td><td>h_200+</td></tr><tr><th>27</th><td>2011</td><td>C</td><td>Manufacturing</td><td>i_Industry_Total</td></tr><tr><th>28</th><td>2011</td><td>D</td><td>Electricity, Gas, Water and Waste Services</td><td>a_0</td></tr><tr><th>29</th><td>2011</td><td>D</td><td>Electricity, Gas, Water and Waste Services</td><td>b_1-5</td></tr><tr><th>30</th><td>2011</td><td>D</td><td>Electricity, Gas, Water and Waste Services</td><td>c_6-9</td></tr><tr><th>&vellip;</th><td>&vellip;</td><td>&vellip;</td><td>&vellip;</td><td>&vellip;</td></tr></tbody></table><p>&vellip;</p><p><i>Last Group (1548 rows): variable = \"Fixed tangible assets\"</i></p><table class=\"data-frame\"><thead><tr><th></th><th>year</th><th>industry_code_ANZSIC</th><th>industry_name_ANZSIC</th><th>rme_size_grp</th></tr><tr><th></th><th>Int64</th><th>String</th><th>String</th><th>String</th></tr></thead><tbody><tr><th>1</th><td>2011</td><td>A</td><td>Agriculture, Forestry and Fishing</td><td>a_0</td></tr><tr><th>2</th><td>2011</td><td>A</td><td>Agriculture, Forestry and Fishing</td><td>b_1-5</td></tr><tr><th>3</th><td>2011</td><td>A</td><td>Agriculture, Forestry and Fishing</td><td>c_6-9</td></tr><tr><th>4</th><td>2011</td><td>A</td><td>Agriculture, Forestry and Fishing</td><td>d_10-19</td></tr><tr><th>5</th><td>2011</td><td>A</td><td>Agriculture, Forestry and Fishing</td><td>e_20-49</td></tr><tr><th>6</th><td>2011</td><td>A</td><td>Agriculture, Forestry and Fishing</td><td>f_50-99</td></tr><tr><th>7</th><td>2011</td><td>A</td><td>Agriculture, Forestry and Fishing</td><td>g_100-199</td></tr><tr><th>8</th><td>2011</td><td>A</td><td>Agriculture, Forestry and Fishing</td><td>h_200+</td></tr><tr><th>9</th><td>2011</td><td>A</td><td>Agriculture, Forestry and Fishing</td><td>i_Industry_Total</td></tr><tr><th>10</th><td>2011</td><td>B</td><td>Mining</td><td>a_0</td></tr><tr><th>11</th><td>2011</td><td>B</td><td>Mining</td><td>b_1-5</td></tr><tr><th>12</th><td>2011</td><td>B</td><td>Mining</td><td>c_6-9</td></tr><tr><th>13</th><td>2011</td><td>B</td><td>Mining</td><td>d_10-19</td></tr><tr><th>14</th><td>2011</td><td>B</td><td>Mining</td><td>e_20-49</td></tr><tr><th>15</th><td>2011</td><td>B</td><td>Mining</td><td>f_50-99</td></tr><tr><th>16</th><td>2011</td><td>B</td><td>Mining</td><td>g_100-199</td></tr><tr><th>17</th><td>2011</td><td>B</td><td>Mining</td><td>h_200+</td></tr><tr><th>18</th><td>2011</td><td>B</td><td>Mining</td><td>i_Industry_Total</td></tr><tr><th>19</th><td>2011</td><td>C</td><td>Manufacturing</td><td>a_0</td></tr><tr><th>20</th><td>2011</td><td>C</td><td>Manufacturing</td><td>b_1-5</td></tr><tr><th>21</th><td>2011</td><td>C</td><td>Manufacturing</td><td>c_6-9</td></tr><tr><th>22</th><td>2011</td><td>C</td><td>Manufacturing</td><td>d_10-19</td></tr><tr><th>23</th><td>2011</td><td>C</td><td>Manufacturing</td><td>e_20-49</td></tr><tr><th>24</th><td>2011</td><td>C</td><td>Manufacturing</td><td>f_50-99</td></tr><tr><th>25</th><td>2011</td><td>C</td><td>Manufacturing</td><td>g_100-199</td></tr><tr><th>26</th><td>2011</td><td>C</td><td>Manufacturing</td><td>h_200+</td></tr><tr><th>27</th><td>2011</td><td>C</td><td>Manufacturing</td><td>i_Industry_Total</td></tr><tr><th>28</th><td>2011</td><td>D</td><td>Electricity, Gas, Water and Waste Services</td><td>a_0</td></tr><tr><th>29</th><td>2011</td><td>D</td><td>Electricity, Gas, Water and Waste Services</td><td>b_1-5</td></tr><tr><th>30</th><td>2011</td><td>D</td><td>Electricity, Gas, Water and Waste Services</td><td>c_6-9</td></tr><tr><th>&vellip;</th><td>&vellip;</td><td>&vellip;</td><td>&vellip;</td><td>&vellip;</td></tr></tbody></table>"
      ],
      "text/latex": [
       "GroupedDataFrame with 9 groups based on key: variable\n",
       "\n",
       "First Group (1548 rows): variable = \"Activity unit\"\n",
       "\n",
       "\\begin{tabular}{r|ccccc}\n",
       "\t& year & industry\\_code\\_ANZSIC & industry\\_name\\_ANZSIC & rme\\_size\\_grp & \\\\\n",
       "\t\\hline\n",
       "\t& Int64 & String & String & String & \\\\\n",
       "\t\\hline\n",
       "\t1 & 2011 & A & Agriculture, Forestry and Fishing & a\\_0 & $\\dots$ \\\\\n",
       "\t2 & 2011 & A & Agriculture, Forestry and Fishing & b\\_1-5 & $\\dots$ \\\\\n",
       "\t3 & 2011 & A & Agriculture, Forestry and Fishing & c\\_6-9 & $\\dots$ \\\\\n",
       "\t4 & 2011 & A & Agriculture, Forestry and Fishing & d\\_10-19 & $\\dots$ \\\\\n",
       "\t5 & 2011 & A & Agriculture, Forestry and Fishing & e\\_20-49 & $\\dots$ \\\\\n",
       "\t6 & 2011 & A & Agriculture, Forestry and Fishing & f\\_50-99 & $\\dots$ \\\\\n",
       "\t7 & 2011 & A & Agriculture, Forestry and Fishing & g\\_100-199 & $\\dots$ \\\\\n",
       "\t8 & 2011 & A & Agriculture, Forestry and Fishing & h\\_200+ & $\\dots$ \\\\\n",
       "\t9 & 2011 & A & Agriculture, Forestry and Fishing & i\\_Industry\\_Total & $\\dots$ \\\\\n",
       "\t10 & 2011 & B & Mining & a\\_0 & $\\dots$ \\\\\n",
       "\t11 & 2011 & B & Mining & b\\_1-5 & $\\dots$ \\\\\n",
       "\t12 & 2011 & B & Mining & c\\_6-9 & $\\dots$ \\\\\n",
       "\t13 & 2011 & B & Mining & d\\_10-19 & $\\dots$ \\\\\n",
       "\t14 & 2011 & B & Mining & e\\_20-49 & $\\dots$ \\\\\n",
       "\t15 & 2011 & B & Mining & f\\_50-99 & $\\dots$ \\\\\n",
       "\t16 & 2011 & B & Mining & g\\_100-199 & $\\dots$ \\\\\n",
       "\t17 & 2011 & B & Mining & h\\_200+ & $\\dots$ \\\\\n",
       "\t18 & 2011 & B & Mining & i\\_Industry\\_Total & $\\dots$ \\\\\n",
       "\t19 & 2011 & C & Manufacturing & a\\_0 & $\\dots$ \\\\\n",
       "\t20 & 2011 & C & Manufacturing & b\\_1-5 & $\\dots$ \\\\\n",
       "\t21 & 2011 & C & Manufacturing & c\\_6-9 & $\\dots$ \\\\\n",
       "\t22 & 2011 & C & Manufacturing & d\\_10-19 & $\\dots$ \\\\\n",
       "\t23 & 2011 & C & Manufacturing & e\\_20-49 & $\\dots$ \\\\\n",
       "\t24 & 2011 & C & Manufacturing & f\\_50-99 & $\\dots$ \\\\\n",
       "\t25 & 2011 & C & Manufacturing & g\\_100-199 & $\\dots$ \\\\\n",
       "\t26 & 2011 & C & Manufacturing & h\\_200+ & $\\dots$ \\\\\n",
       "\t27 & 2011 & C & Manufacturing & i\\_Industry\\_Total & $\\dots$ \\\\\n",
       "\t28 & 2011 & D & Electricity, Gas, Water and Waste Services & a\\_0 & $\\dots$ \\\\\n",
       "\t29 & 2011 & D & Electricity, Gas, Water and Waste Services & b\\_1-5 & $\\dots$ \\\\\n",
       "\t30 & 2011 & D & Electricity, Gas, Water and Waste Services & c\\_6-9 & $\\dots$ \\\\\n",
       "\t$\\dots$ & $\\dots$ & $\\dots$ & $\\dots$ & $\\dots$ &  \\\\\n",
       "\\end{tabular}\n",
       "\n",
       "$\\dots$\n",
       "\n",
       "Last Group (1548 rows): variable = \"Fixed tangible assets\"\n",
       "\n",
       "\\begin{tabular}{r|ccccc}\n",
       "\t& year & industry\\_code\\_ANZSIC & industry\\_name\\_ANZSIC & rme\\_size\\_grp & \\\\\n",
       "\t\\hline\n",
       "\t& Int64 & String & String & String & \\\\\n",
       "\t\\hline\n",
       "\t1 & 2011 & A & Agriculture, Forestry and Fishing & a\\_0 & $\\dots$ \\\\\n",
       "\t2 & 2011 & A & Agriculture, Forestry and Fishing & b\\_1-5 & $\\dots$ \\\\\n",
       "\t3 & 2011 & A & Agriculture, Forestry and Fishing & c\\_6-9 & $\\dots$ \\\\\n",
       "\t4 & 2011 & A & Agriculture, Forestry and Fishing & d\\_10-19 & $\\dots$ \\\\\n",
       "\t5 & 2011 & A & Agriculture, Forestry and Fishing & e\\_20-49 & $\\dots$ \\\\\n",
       "\t6 & 2011 & A & Agriculture, Forestry and Fishing & f\\_50-99 & $\\dots$ \\\\\n",
       "\t7 & 2011 & A & Agriculture, Forestry and Fishing & g\\_100-199 & $\\dots$ \\\\\n",
       "\t8 & 2011 & A & Agriculture, Forestry and Fishing & h\\_200+ & $\\dots$ \\\\\n",
       "\t9 & 2011 & A & Agriculture, Forestry and Fishing & i\\_Industry\\_Total & $\\dots$ \\\\\n",
       "\t10 & 2011 & B & Mining & a\\_0 & $\\dots$ \\\\\n",
       "\t11 & 2011 & B & Mining & b\\_1-5 & $\\dots$ \\\\\n",
       "\t12 & 2011 & B & Mining & c\\_6-9 & $\\dots$ \\\\\n",
       "\t13 & 2011 & B & Mining & d\\_10-19 & $\\dots$ \\\\\n",
       "\t14 & 2011 & B & Mining & e\\_20-49 & $\\dots$ \\\\\n",
       "\t15 & 2011 & B & Mining & f\\_50-99 & $\\dots$ \\\\\n",
       "\t16 & 2011 & B & Mining & g\\_100-199 & $\\dots$ \\\\\n",
       "\t17 & 2011 & B & Mining & h\\_200+ & $\\dots$ \\\\\n",
       "\t18 & 2011 & B & Mining & i\\_Industry\\_Total & $\\dots$ \\\\\n",
       "\t19 & 2011 & C & Manufacturing & a\\_0 & $\\dots$ \\\\\n",
       "\t20 & 2011 & C & Manufacturing & b\\_1-5 & $\\dots$ \\\\\n",
       "\t21 & 2011 & C & Manufacturing & c\\_6-9 & $\\dots$ \\\\\n",
       "\t22 & 2011 & C & Manufacturing & d\\_10-19 & $\\dots$ \\\\\n",
       "\t23 & 2011 & C & Manufacturing & e\\_20-49 & $\\dots$ \\\\\n",
       "\t24 & 2011 & C & Manufacturing & f\\_50-99 & $\\dots$ \\\\\n",
       "\t25 & 2011 & C & Manufacturing & g\\_100-199 & $\\dots$ \\\\\n",
       "\t26 & 2011 & C & Manufacturing & h\\_200+ & $\\dots$ \\\\\n",
       "\t27 & 2011 & C & Manufacturing & i\\_Industry\\_Total & $\\dots$ \\\\\n",
       "\t28 & 2011 & D & Electricity, Gas, Water and Waste Services & a\\_0 & $\\dots$ \\\\\n",
       "\t29 & 2011 & D & Electricity, Gas, Water and Waste Services & b\\_1-5 & $\\dots$ \\\\\n",
       "\t30 & 2011 & D & Electricity, Gas, Water and Waste Services & c\\_6-9 & $\\dots$ \\\\\n",
       "\t$\\dots$ & $\\dots$ & $\\dots$ & $\\dots$ & $\\dots$ &  \\\\\n",
       "\\end{tabular}\n"
      ],
      "text/plain": [
       "GroupedDataFrame with 9 groups based on key: variable\n",
       "First Group (1548 rows): variable = \"Activity unit\"\n",
       "\u001b[1m  Row \u001b[0m│\u001b[1m year  \u001b[0m\u001b[1m industry_code_ANZSIC \u001b[0m\u001b[1m industry_name_ANZSIC              \u001b[0m\u001b[1m rme_si\u001b[0m ⋯\n",
       "\u001b[1m      \u001b[0m│\u001b[90m Int64 \u001b[0m\u001b[90m String               \u001b[0m\u001b[90m String                            \u001b[0m\u001b[90m String\u001b[0m ⋯\n",
       "──────┼─────────────────────────────────────────────────────────────────────────\n",
       "    1 │  2011  A                     Agriculture, Forestry and Fishing  a_0    ⋯\n",
       "    2 │  2011  A                     Agriculture, Forestry and Fishing  b_1-5\n",
       "    3 │  2011  A                     Agriculture, Forestry and Fishing  c_6-9\n",
       "    4 │  2011  A                     Agriculture, Forestry and Fishing  d_10-1\n",
       "    5 │  2011  A                     Agriculture, Forestry and Fishing  e_20-4 ⋯\n",
       "    6 │  2011  A                     Agriculture, Forestry and Fishing  f_50-9\n",
       "    7 │  2011  A                     Agriculture, Forestry and Fishing  g_100-\n",
       "    8 │  2011  A                     Agriculture, Forestry and Fishing  h_200+\n",
       "    9 │  2011  A                     Agriculture, Forestry and Fishing  i_Indu ⋯\n",
       "   10 │  2011  B                     Mining                             a_0\n",
       "   11 │  2011  B                     Mining                             b_1-5\n",
       "  ⋮   │   ⋮             ⋮                            ⋮                         ⋱\n",
       " 1538 │  2019  R                     Arts and Recreation Services       i_Indu\n",
       " 1539 │  2019  S                     Other Services                     a_0    ⋯\n",
       " 1540 │  2019  S                     Other Services                     b_1-5\n",
       " 1541 │  2019  S                     Other Services                     c_6-9\n",
       " 1542 │  2019  S                     Other Services                     d_10-1\n",
       " 1543 │  2019  S                     Other Services                     e_20-4 ⋯\n",
       " 1544 │  2019  S                     Other Services                     f_50-9\n",
       " 1545 │  2019  S                     Other Services                     g_100-\n",
       " 1546 │  2019  S                     Other Services                     h_200+\n",
       " 1547 │  2019  S                     Other Services                     i_Indu ⋯\n",
       " 1548 │  2019  all                   All Industries                     j_Gran\n",
       "\u001b[36m                                                 4 columns and 1526 rows omitted\u001b[0m\n",
       "⋮\n",
       "Last Group (1548 rows): variable = \"Fixed tangible assets\"\n",
       "\u001b[1m  Row \u001b[0m│\u001b[1m year  \u001b[0m\u001b[1m industry_code_ANZSIC \u001b[0m\u001b[1m industry_name_ANZSIC              \u001b[0m\u001b[1m rme_si\u001b[0m ⋯\n",
       "\u001b[1m      \u001b[0m│\u001b[90m Int64 \u001b[0m\u001b[90m String               \u001b[0m\u001b[90m String                            \u001b[0m\u001b[90m String\u001b[0m ⋯\n",
       "──────┼─────────────────────────────────────────────────────────────────────────\n",
       "    1 │  2011  A                     Agriculture, Forestry and Fishing  a_0    ⋯\n",
       "    2 │  2011  A                     Agriculture, Forestry and Fishing  b_1-5\n",
       "    3 │  2011  A                     Agriculture, Forestry and Fishing  c_6-9\n",
       "    4 │  2011  A                     Agriculture, Forestry and Fishing  d_10-1\n",
       "    5 │  2011  A                     Agriculture, Forestry and Fishing  e_20-4 ⋯\n",
       "    6 │  2011  A                     Agriculture, Forestry and Fishing  f_50-9\n",
       "    7 │  2011  A                     Agriculture, Forestry and Fishing  g_100-\n",
       "    8 │  2011  A                     Agriculture, Forestry and Fishing  h_200+\n",
       "    9 │  2011  A                     Agriculture, Forestry and Fishing  i_Indu ⋯\n",
       "   10 │  2011  B                     Mining                             a_0\n",
       "   11 │  2011  B                     Mining                             b_1-5\n",
       "  ⋮   │   ⋮             ⋮                            ⋮                         ⋱\n",
       " 1538 │  2019  R                     Arts and Recreation Services       i_Indu\n",
       " 1539 │  2019  S                     Other Services                     a_0    ⋯\n",
       " 1540 │  2019  S                     Other Services                     b_1-5\n",
       " 1541 │  2019  S                     Other Services                     c_6-9\n",
       " 1542 │  2019  S                     Other Services                     d_10-1\n",
       " 1543 │  2019  S                     Other Services                     e_20-4 ⋯\n",
       " 1544 │  2019  S                     Other Services                     f_50-9\n",
       " 1545 │  2019  S                     Other Services                     g_100-\n",
       " 1546 │  2019  S                     Other Services                     h_200+\n",
       " 1547 │  2019  S                     Other Services                     i_Indu ⋯\n",
       " 1548 │  2019  all                   All Industries                     j_Gran\n",
       "\u001b[36m                                                 4 columns and 1526 rows omitted\u001b[0m"
      ]
     },
     "execution_count": 5,
     "metadata": {},
     "output_type": "execute_result"
    }
   ],
   "source": [
    "#Используя соответствующую функцию мы можем сгруппировать наш Data Frame  по любому столбцу\n",
    "vdf = groupby(df, :variable)"
   ]
  },
  {
   "cell_type": "code",
   "execution_count": 6,
   "metadata": {},
   "outputs": [
    {
     "data": {
      "text/html": [
       "<table class=\"data-frame\"><thead><tr><th></th><th>year</th><th>industry_code_ANZSIC</th><th>industry_name_ANZSIC</th><th>rme_size_grp</th></tr><tr><th></th><th>Int64</th><th>String</th><th>String</th><th>String</th></tr></thead><tbody><p>1,548 rows × 7 columns (omitted printing of 3 columns)</p><tr><th>1</th><td>2011</td><td>A</td><td>Agriculture, Forestry and Fishing</td><td>a_0</td></tr><tr><th>2</th><td>2011</td><td>A</td><td>Agriculture, Forestry and Fishing</td><td>b_1-5</td></tr><tr><th>3</th><td>2011</td><td>A</td><td>Agriculture, Forestry and Fishing</td><td>c_6-9</td></tr><tr><th>4</th><td>2011</td><td>A</td><td>Agriculture, Forestry and Fishing</td><td>d_10-19</td></tr><tr><th>5</th><td>2011</td><td>A</td><td>Agriculture, Forestry and Fishing</td><td>e_20-49</td></tr><tr><th>6</th><td>2011</td><td>A</td><td>Agriculture, Forestry and Fishing</td><td>f_50-99</td></tr><tr><th>7</th><td>2011</td><td>A</td><td>Agriculture, Forestry and Fishing</td><td>g_100-199</td></tr><tr><th>8</th><td>2011</td><td>A</td><td>Agriculture, Forestry and Fishing</td><td>h_200+</td></tr><tr><th>9</th><td>2011</td><td>A</td><td>Agriculture, Forestry and Fishing</td><td>i_Industry_Total</td></tr><tr><th>10</th><td>2011</td><td>B</td><td>Mining</td><td>a_0</td></tr><tr><th>11</th><td>2011</td><td>B</td><td>Mining</td><td>b_1-5</td></tr><tr><th>12</th><td>2011</td><td>B</td><td>Mining</td><td>c_6-9</td></tr><tr><th>13</th><td>2011</td><td>B</td><td>Mining</td><td>d_10-19</td></tr><tr><th>14</th><td>2011</td><td>B</td><td>Mining</td><td>e_20-49</td></tr><tr><th>15</th><td>2011</td><td>B</td><td>Mining</td><td>f_50-99</td></tr><tr><th>16</th><td>2011</td><td>B</td><td>Mining</td><td>g_100-199</td></tr><tr><th>17</th><td>2011</td><td>B</td><td>Mining</td><td>h_200+</td></tr><tr><th>18</th><td>2011</td><td>B</td><td>Mining</td><td>i_Industry_Total</td></tr><tr><th>19</th><td>2011</td><td>C</td><td>Manufacturing</td><td>a_0</td></tr><tr><th>20</th><td>2011</td><td>C</td><td>Manufacturing</td><td>b_1-5</td></tr><tr><th>21</th><td>2011</td><td>C</td><td>Manufacturing</td><td>c_6-9</td></tr><tr><th>22</th><td>2011</td><td>C</td><td>Manufacturing</td><td>d_10-19</td></tr><tr><th>23</th><td>2011</td><td>C</td><td>Manufacturing</td><td>e_20-49</td></tr><tr><th>24</th><td>2011</td><td>C</td><td>Manufacturing</td><td>f_50-99</td></tr><tr><th>25</th><td>2011</td><td>C</td><td>Manufacturing</td><td>g_100-199</td></tr><tr><th>26</th><td>2011</td><td>C</td><td>Manufacturing</td><td>h_200+</td></tr><tr><th>27</th><td>2011</td><td>C</td><td>Manufacturing</td><td>i_Industry_Total</td></tr><tr><th>28</th><td>2011</td><td>D</td><td>Electricity, Gas, Water and Waste Services</td><td>a_0</td></tr><tr><th>29</th><td>2011</td><td>D</td><td>Electricity, Gas, Water and Waste Services</td><td>b_1-5</td></tr><tr><th>30</th><td>2011</td><td>D</td><td>Electricity, Gas, Water and Waste Services</td><td>c_6-9</td></tr><tr><th>&vellip;</th><td>&vellip;</td><td>&vellip;</td><td>&vellip;</td><td>&vellip;</td></tr></tbody></table>"
      ],
      "text/latex": [
       "\\begin{tabular}{r|ccccc}\n",
       "\t& year & industry\\_code\\_ANZSIC & industry\\_name\\_ANZSIC & rme\\_size\\_grp & \\\\\n",
       "\t\\hline\n",
       "\t& Int64 & String & String & String & \\\\\n",
       "\t\\hline\n",
       "\t1 & 2011 & A & Agriculture, Forestry and Fishing & a\\_0 & $\\dots$ \\\\\n",
       "\t2 & 2011 & A & Agriculture, Forestry and Fishing & b\\_1-5 & $\\dots$ \\\\\n",
       "\t3 & 2011 & A & Agriculture, Forestry and Fishing & c\\_6-9 & $\\dots$ \\\\\n",
       "\t4 & 2011 & A & Agriculture, Forestry and Fishing & d\\_10-19 & $\\dots$ \\\\\n",
       "\t5 & 2011 & A & Agriculture, Forestry and Fishing & e\\_20-49 & $\\dots$ \\\\\n",
       "\t6 & 2011 & A & Agriculture, Forestry and Fishing & f\\_50-99 & $\\dots$ \\\\\n",
       "\t7 & 2011 & A & Agriculture, Forestry and Fishing & g\\_100-199 & $\\dots$ \\\\\n",
       "\t8 & 2011 & A & Agriculture, Forestry and Fishing & h\\_200+ & $\\dots$ \\\\\n",
       "\t9 & 2011 & A & Agriculture, Forestry and Fishing & i\\_Industry\\_Total & $\\dots$ \\\\\n",
       "\t10 & 2011 & B & Mining & a\\_0 & $\\dots$ \\\\\n",
       "\t11 & 2011 & B & Mining & b\\_1-5 & $\\dots$ \\\\\n",
       "\t12 & 2011 & B & Mining & c\\_6-9 & $\\dots$ \\\\\n",
       "\t13 & 2011 & B & Mining & d\\_10-19 & $\\dots$ \\\\\n",
       "\t14 & 2011 & B & Mining & e\\_20-49 & $\\dots$ \\\\\n",
       "\t15 & 2011 & B & Mining & f\\_50-99 & $\\dots$ \\\\\n",
       "\t16 & 2011 & B & Mining & g\\_100-199 & $\\dots$ \\\\\n",
       "\t17 & 2011 & B & Mining & h\\_200+ & $\\dots$ \\\\\n",
       "\t18 & 2011 & B & Mining & i\\_Industry\\_Total & $\\dots$ \\\\\n",
       "\t19 & 2011 & C & Manufacturing & a\\_0 & $\\dots$ \\\\\n",
       "\t20 & 2011 & C & Manufacturing & b\\_1-5 & $\\dots$ \\\\\n",
       "\t21 & 2011 & C & Manufacturing & c\\_6-9 & $\\dots$ \\\\\n",
       "\t22 & 2011 & C & Manufacturing & d\\_10-19 & $\\dots$ \\\\\n",
       "\t23 & 2011 & C & Manufacturing & e\\_20-49 & $\\dots$ \\\\\n",
       "\t24 & 2011 & C & Manufacturing & f\\_50-99 & $\\dots$ \\\\\n",
       "\t25 & 2011 & C & Manufacturing & g\\_100-199 & $\\dots$ \\\\\n",
       "\t26 & 2011 & C & Manufacturing & h\\_200+ & $\\dots$ \\\\\n",
       "\t27 & 2011 & C & Manufacturing & i\\_Industry\\_Total & $\\dots$ \\\\\n",
       "\t28 & 2011 & D & Electricity, Gas, Water and Waste Services & a\\_0 & $\\dots$ \\\\\n",
       "\t29 & 2011 & D & Electricity, Gas, Water and Waste Services & b\\_1-5 & $\\dots$ \\\\\n",
       "\t30 & 2011 & D & Electricity, Gas, Water and Waste Services & c\\_6-9 & $\\dots$ \\\\\n",
       "\t$\\dots$ & $\\dots$ & $\\dots$ & $\\dots$ & $\\dots$ &  \\\\\n",
       "\\end{tabular}\n"
      ],
      "text/plain": [
       "\u001b[1m1548×7 SubDataFrame\u001b[0m\n",
       "\u001b[1m  Row \u001b[0m│\u001b[1m year  \u001b[0m\u001b[1m industry_code_ANZSIC \u001b[0m\u001b[1m industry_name_ANZSIC              \u001b[0m\u001b[1m rme_si\u001b[0m ⋯\n",
       "\u001b[1m      \u001b[0m│\u001b[90m Int64 \u001b[0m\u001b[90m String               \u001b[0m\u001b[90m String                            \u001b[0m\u001b[90m String\u001b[0m ⋯\n",
       "──────┼─────────────────────────────────────────────────────────────────────────\n",
       "    1 │  2011  A                     Agriculture, Forestry and Fishing  a_0    ⋯\n",
       "    2 │  2011  A                     Agriculture, Forestry and Fishing  b_1-5\n",
       "    3 │  2011  A                     Agriculture, Forestry and Fishing  c_6-9\n",
       "    4 │  2011  A                     Agriculture, Forestry and Fishing  d_10-1\n",
       "    5 │  2011  A                     Agriculture, Forestry and Fishing  e_20-4 ⋯\n",
       "    6 │  2011  A                     Agriculture, Forestry and Fishing  f_50-9\n",
       "    7 │  2011  A                     Agriculture, Forestry and Fishing  g_100-\n",
       "    8 │  2011  A                     Agriculture, Forestry and Fishing  h_200+\n",
       "    9 │  2011  A                     Agriculture, Forestry and Fishing  i_Indu ⋯\n",
       "   10 │  2011  B                     Mining                             a_0\n",
       "   11 │  2011  B                     Mining                             b_1-5\n",
       "  ⋮   │   ⋮             ⋮                            ⋮                         ⋱\n",
       " 1539 │  2019  S                     Other Services                     a_0\n",
       " 1540 │  2019  S                     Other Services                     b_1-5  ⋯\n",
       " 1541 │  2019  S                     Other Services                     c_6-9\n",
       " 1542 │  2019  S                     Other Services                     d_10-1\n",
       " 1543 │  2019  S                     Other Services                     e_20-4\n",
       " 1544 │  2019  S                     Other Services                     f_50-9 ⋯\n",
       " 1545 │  2019  S                     Other Services                     g_100-\n",
       " 1546 │  2019  S                     Other Services                     h_200+\n",
       " 1547 │  2019  S                     Other Services                     i_Indu\n",
       " 1548 │  2019  all                   All Industries                     j_Gran ⋯\n",
       "\u001b[36m                                                 4 columns and 1527 rows omitted\u001b[0m"
      ]
     },
     "execution_count": 6,
     "metadata": {},
     "output_type": "execute_result"
    }
   ],
   "source": [
    "#можно найти подходящую группу легко, передав кортеж значений группирующих столбцов \n",
    "vdf[(\"Total income\",)]"
   ]
  },
  {
   "cell_type": "code",
   "execution_count": 2,
   "metadata": {},
   "outputs": [
    {
     "data": {
      "text/html": [
       "<table class=\"data-frame\"><thead><tr><th></th><th>NZ Port</th><th>Citizenship</th><th>Count</th><th>Year</th></tr><tr><th></th><th>String</th><th>String</th><th>Int64</th><th>Int64</th></tr></thead><tbody><p>2,094 rows × 4 columns</p><tr><th>1</th><td>Akaroa</td><td>Australia</td><td>73145</td><td>2015</td></tr><tr><th>2</th><td>Akaroa</td><td>Austria</td><td>125</td><td>2015</td></tr><tr><th>3</th><td>Akaroa</td><td>Belgium</td><td>158</td><td>2015</td></tr><tr><th>4</th><td>Akaroa</td><td>Brazil</td><td>314</td><td>2015</td></tr><tr><th>5</th><td>Akaroa</td><td>Canada</td><td>4522</td><td>2015</td></tr><tr><th>6</th><td>Akaroa</td><td>China, Peoples Republic of</td><td>1507</td><td>2015</td></tr><tr><th>7</th><td>Akaroa</td><td>Denmark</td><td>143</td><td>2015</td></tr><tr><th>8</th><td>Akaroa</td><td>France</td><td>266</td><td>2015</td></tr><tr><th>9</th><td>Akaroa</td><td>Germany</td><td>1202</td><td>2015</td></tr><tr><th>10</th><td>Akaroa</td><td>Hong Kong (Special Admin Reg)</td><td>417</td><td>2015</td></tr><tr><th>11</th><td>Akaroa</td><td>India</td><td>118</td><td>2015</td></tr><tr><th>12</th><td>Akaroa</td><td>Ireland</td><td>176</td><td>2015</td></tr><tr><th>13</th><td>Akaroa</td><td>Israel</td><td>243</td><td>2015</td></tr><tr><th>14</th><td>Akaroa</td><td>Italy</td><td>234</td><td>2015</td></tr><tr><th>15</th><td>Akaroa</td><td>Japan</td><td>845</td><td>2015</td></tr><tr><th>16</th><td>Akaroa</td><td>Malaysia</td><td>342</td><td>2015</td></tr><tr><th>17</th><td>Akaroa</td><td>Mexico</td><td>439</td><td>2015</td></tr><tr><th>18</th><td>Akaroa</td><td>Netherlands</td><td>383</td><td>2015</td></tr><tr><th>19</th><td>Akaroa</td><td>New Zealand</td><td>6294</td><td>2015</td></tr><tr><th>20</th><td>Akaroa</td><td>Philippines</td><td>145</td><td>2015</td></tr><tr><th>21</th><td>Akaroa</td><td>Russia</td><td>281</td><td>2015</td></tr><tr><th>22</th><td>Akaroa</td><td>Singapore</td><td>193</td><td>2015</td></tr><tr><th>23</th><td>Akaroa</td><td>South Africa</td><td>209</td><td>2015</td></tr><tr><th>24</th><td>Akaroa</td><td>Spain</td><td>105</td><td>2015</td></tr><tr><th>25</th><td>Akaroa</td><td>Sweden</td><td>276</td><td>2015</td></tr><tr><th>26</th><td>Akaroa</td><td>Switzerland</td><td>423</td><td>2015</td></tr><tr><th>27</th><td>Akaroa</td><td>Taiwan</td><td>177</td><td>2015</td></tr><tr><th>28</th><td>Akaroa</td><td>United Kingdom</td><td>8782</td><td>2015</td></tr><tr><th>29</th><td>Akaroa</td><td>United States of America</td><td>25142</td><td>2015</td></tr><tr><th>30</th><td>Auckland</td><td>Australia</td><td>92859</td><td>2015</td></tr><tr><th>&vellip;</th><td>&vellip;</td><td>&vellip;</td><td>&vellip;</td><td>&vellip;</td></tr></tbody></table>"
      ],
      "text/latex": [
       "\\begin{tabular}{r|cccc}\n",
       "\t& NZ Port & Citizenship & Count & Year\\\\\n",
       "\t\\hline\n",
       "\t& String & String & Int64 & Int64\\\\\n",
       "\t\\hline\n",
       "\t1 & Akaroa & Australia & 73145 & 2015 \\\\\n",
       "\t2 & Akaroa & Austria & 125 & 2015 \\\\\n",
       "\t3 & Akaroa & Belgium & 158 & 2015 \\\\\n",
       "\t4 & Akaroa & Brazil & 314 & 2015 \\\\\n",
       "\t5 & Akaroa & Canada & 4522 & 2015 \\\\\n",
       "\t6 & Akaroa & China, Peoples Republic of & 1507 & 2015 \\\\\n",
       "\t7 & Akaroa & Denmark & 143 & 2015 \\\\\n",
       "\t8 & Akaroa & France & 266 & 2015 \\\\\n",
       "\t9 & Akaroa & Germany & 1202 & 2015 \\\\\n",
       "\t10 & Akaroa & Hong Kong (Special Admin Reg) & 417 & 2015 \\\\\n",
       "\t11 & Akaroa & India & 118 & 2015 \\\\\n",
       "\t12 & Akaroa & Ireland & 176 & 2015 \\\\\n",
       "\t13 & Akaroa & Israel & 243 & 2015 \\\\\n",
       "\t14 & Akaroa & Italy & 234 & 2015 \\\\\n",
       "\t15 & Akaroa & Japan & 845 & 2015 \\\\\n",
       "\t16 & Akaroa & Malaysia & 342 & 2015 \\\\\n",
       "\t17 & Akaroa & Mexico & 439 & 2015 \\\\\n",
       "\t18 & Akaroa & Netherlands & 383 & 2015 \\\\\n",
       "\t19 & Akaroa & New Zealand & 6294 & 2015 \\\\\n",
       "\t20 & Akaroa & Philippines & 145 & 2015 \\\\\n",
       "\t21 & Akaroa & Russia & 281 & 2015 \\\\\n",
       "\t22 & Akaroa & Singapore & 193 & 2015 \\\\\n",
       "\t23 & Akaroa & South Africa & 209 & 2015 \\\\\n",
       "\t24 & Akaroa & Spain & 105 & 2015 \\\\\n",
       "\t25 & Akaroa & Sweden & 276 & 2015 \\\\\n",
       "\t26 & Akaroa & Switzerland & 423 & 2015 \\\\\n",
       "\t27 & Akaroa & Taiwan & 177 & 2015 \\\\\n",
       "\t28 & Akaroa & United Kingdom & 8782 & 2015 \\\\\n",
       "\t29 & Akaroa & United States of America & 25142 & 2015 \\\\\n",
       "\t30 & Auckland & Australia & 92859 & 2015 \\\\\n",
       "\t$\\dots$ & $\\dots$ & $\\dots$ & $\\dots$ & $\\dots$ \\\\\n",
       "\\end{tabular}\n"
      ],
      "text/plain": [
       "\u001b[1m2094×4 DataFrame\u001b[0m\n",
       "\u001b[1m  Row \u001b[0m│\u001b[1m NZ Port    \u001b[0m\u001b[1m Citizenship                   \u001b[0m\u001b[1m Count  \u001b[0m\u001b[1m Year  \u001b[0m\n",
       "\u001b[1m      \u001b[0m│\u001b[90m String     \u001b[0m\u001b[90m String                        \u001b[0m\u001b[90m Int64  \u001b[0m\u001b[90m Int64 \u001b[0m\n",
       "──────┼──────────────────────────────────────────────────────────\n",
       "    1 │ Akaroa      Australia                       73145   2015\n",
       "    2 │ Akaroa      Austria                           125   2015\n",
       "    3 │ Akaroa      Belgium                           158   2015\n",
       "    4 │ Akaroa      Brazil                            314   2015\n",
       "    5 │ Akaroa      Canada                           4522   2015\n",
       "    6 │ Akaroa      China, Peoples Republic of       1507   2015\n",
       "    7 │ Akaroa      Denmark                           143   2015\n",
       "    8 │ Akaroa      France                            266   2015\n",
       "    9 │ Akaroa      Germany                          1202   2015\n",
       "   10 │ Akaroa      Hong Kong (Special Admin Reg)     417   2015\n",
       "   11 │ Akaroa      India                             118   2015\n",
       "  ⋮   │     ⋮                     ⋮                  ⋮       ⋮\n",
       " 2085 │ Tauranga    Total                          183243   2020\n",
       " 2086 │ Timaru      Total                            2089   2015\n",
       " 2087 │ Timaru      Total                            2546   2017\n",
       " 2088 │ Timaru      Total                            2197   2020\n",
       " 2089 │ Wellington  Total                          139331   2015\n",
       " 2090 │ Wellington  Total                          161335   2016\n",
       " 2091 │ Wellington  Total                          163871   2017\n",
       " 2092 │ Wellington  Total                          162223   2018\n",
       " 2093 │ Wellington  Total                          222448   2019\n",
       " 2094 │ Wellington  Total                          190754   2020\n",
       "\u001b[36m                                                2073 rows omitted\u001b[0m"
      ]
     },
     "execution_count": 2,
     "metadata": {},
     "output_type": "execute_result"
    }
   ],
   "source": [
    "# далее мы используем другие данные\n",
    "using CSV\n",
    "df2 = CSV.read(\"unique.csv\", DataFrame)"
   ]
  },
  {
   "cell_type": "code",
   "execution_count": 3,
   "metadata": {},
   "outputs": [
    {
     "data": {
      "text/html": [
       "<table class=\"data-frame\"><thead><tr><th></th><th>Port</th><th>Citizenship</th><th>Count</th><th>Year</th></tr><tr><th></th><th>String</th><th>String</th><th>Int64</th><th>Int64</th></tr></thead><tbody><p>2,094 rows × 4 columns</p><tr><th>1</th><td>Akaroa</td><td>Australia</td><td>73145</td><td>2015</td></tr><tr><th>2</th><td>Akaroa</td><td>Austria</td><td>125</td><td>2015</td></tr><tr><th>3</th><td>Akaroa</td><td>Belgium</td><td>158</td><td>2015</td></tr><tr><th>4</th><td>Akaroa</td><td>Brazil</td><td>314</td><td>2015</td></tr><tr><th>5</th><td>Akaroa</td><td>Canada</td><td>4522</td><td>2015</td></tr><tr><th>6</th><td>Akaroa</td><td>China, Peoples Republic of</td><td>1507</td><td>2015</td></tr><tr><th>7</th><td>Akaroa</td><td>Denmark</td><td>143</td><td>2015</td></tr><tr><th>8</th><td>Akaroa</td><td>France</td><td>266</td><td>2015</td></tr><tr><th>9</th><td>Akaroa</td><td>Germany</td><td>1202</td><td>2015</td></tr><tr><th>10</th><td>Akaroa</td><td>Hong Kong (Special Admin Reg)</td><td>417</td><td>2015</td></tr><tr><th>11</th><td>Akaroa</td><td>India</td><td>118</td><td>2015</td></tr><tr><th>12</th><td>Akaroa</td><td>Ireland</td><td>176</td><td>2015</td></tr><tr><th>13</th><td>Akaroa</td><td>Israel</td><td>243</td><td>2015</td></tr><tr><th>14</th><td>Akaroa</td><td>Italy</td><td>234</td><td>2015</td></tr><tr><th>15</th><td>Akaroa</td><td>Japan</td><td>845</td><td>2015</td></tr><tr><th>16</th><td>Akaroa</td><td>Malaysia</td><td>342</td><td>2015</td></tr><tr><th>17</th><td>Akaroa</td><td>Mexico</td><td>439</td><td>2015</td></tr><tr><th>18</th><td>Akaroa</td><td>Netherlands</td><td>383</td><td>2015</td></tr><tr><th>19</th><td>Akaroa</td><td>New Zealand</td><td>6294</td><td>2015</td></tr><tr><th>20</th><td>Akaroa</td><td>Philippines</td><td>145</td><td>2015</td></tr><tr><th>21</th><td>Akaroa</td><td>Russia</td><td>281</td><td>2015</td></tr><tr><th>22</th><td>Akaroa</td><td>Singapore</td><td>193</td><td>2015</td></tr><tr><th>23</th><td>Akaroa</td><td>South Africa</td><td>209</td><td>2015</td></tr><tr><th>24</th><td>Akaroa</td><td>Spain</td><td>105</td><td>2015</td></tr><tr><th>25</th><td>Akaroa</td><td>Sweden</td><td>276</td><td>2015</td></tr><tr><th>26</th><td>Akaroa</td><td>Switzerland</td><td>423</td><td>2015</td></tr><tr><th>27</th><td>Akaroa</td><td>Taiwan</td><td>177</td><td>2015</td></tr><tr><th>28</th><td>Akaroa</td><td>United Kingdom</td><td>8782</td><td>2015</td></tr><tr><th>29</th><td>Akaroa</td><td>United States of America</td><td>25142</td><td>2015</td></tr><tr><th>30</th><td>Auckland</td><td>Australia</td><td>92859</td><td>2015</td></tr><tr><th>&vellip;</th><td>&vellip;</td><td>&vellip;</td><td>&vellip;</td><td>&vellip;</td></tr></tbody></table>"
      ],
      "text/latex": [
       "\\begin{tabular}{r|cccc}\n",
       "\t& Port & Citizenship & Count & Year\\\\\n",
       "\t\\hline\n",
       "\t& String & String & Int64 & Int64\\\\\n",
       "\t\\hline\n",
       "\t1 & Akaroa & Australia & 73145 & 2015 \\\\\n",
       "\t2 & Akaroa & Austria & 125 & 2015 \\\\\n",
       "\t3 & Akaroa & Belgium & 158 & 2015 \\\\\n",
       "\t4 & Akaroa & Brazil & 314 & 2015 \\\\\n",
       "\t5 & Akaroa & Canada & 4522 & 2015 \\\\\n",
       "\t6 & Akaroa & China, Peoples Republic of & 1507 & 2015 \\\\\n",
       "\t7 & Akaroa & Denmark & 143 & 2015 \\\\\n",
       "\t8 & Akaroa & France & 266 & 2015 \\\\\n",
       "\t9 & Akaroa & Germany & 1202 & 2015 \\\\\n",
       "\t10 & Akaroa & Hong Kong (Special Admin Reg) & 417 & 2015 \\\\\n",
       "\t11 & Akaroa & India & 118 & 2015 \\\\\n",
       "\t12 & Akaroa & Ireland & 176 & 2015 \\\\\n",
       "\t13 & Akaroa & Israel & 243 & 2015 \\\\\n",
       "\t14 & Akaroa & Italy & 234 & 2015 \\\\\n",
       "\t15 & Akaroa & Japan & 845 & 2015 \\\\\n",
       "\t16 & Akaroa & Malaysia & 342 & 2015 \\\\\n",
       "\t17 & Akaroa & Mexico & 439 & 2015 \\\\\n",
       "\t18 & Akaroa & Netherlands & 383 & 2015 \\\\\n",
       "\t19 & Akaroa & New Zealand & 6294 & 2015 \\\\\n",
       "\t20 & Akaroa & Philippines & 145 & 2015 \\\\\n",
       "\t21 & Akaroa & Russia & 281 & 2015 \\\\\n",
       "\t22 & Akaroa & Singapore & 193 & 2015 \\\\\n",
       "\t23 & Akaroa & South Africa & 209 & 2015 \\\\\n",
       "\t24 & Akaroa & Spain & 105 & 2015 \\\\\n",
       "\t25 & Akaroa & Sweden & 276 & 2015 \\\\\n",
       "\t26 & Akaroa & Switzerland & 423 & 2015 \\\\\n",
       "\t27 & Akaroa & Taiwan & 177 & 2015 \\\\\n",
       "\t28 & Akaroa & United Kingdom & 8782 & 2015 \\\\\n",
       "\t29 & Akaroa & United States of America & 25142 & 2015 \\\\\n",
       "\t30 & Auckland & Australia & 92859 & 2015 \\\\\n",
       "\t$\\dots$ & $\\dots$ & $\\dots$ & $\\dots$ & $\\dots$ \\\\\n",
       "\\end{tabular}\n"
      ],
      "text/plain": [
       "\u001b[1m2094×4 DataFrame\u001b[0m\n",
       "\u001b[1m  Row \u001b[0m│\u001b[1m Port       \u001b[0m\u001b[1m Citizenship                   \u001b[0m\u001b[1m Count  \u001b[0m\u001b[1m Year  \u001b[0m\n",
       "\u001b[1m      \u001b[0m│\u001b[90m String     \u001b[0m\u001b[90m String                        \u001b[0m\u001b[90m Int64  \u001b[0m\u001b[90m Int64 \u001b[0m\n",
       "──────┼──────────────────────────────────────────────────────────\n",
       "    1 │ Akaroa      Australia                       73145   2015\n",
       "    2 │ Akaroa      Austria                           125   2015\n",
       "    3 │ Akaroa      Belgium                           158   2015\n",
       "    4 │ Akaroa      Brazil                            314   2015\n",
       "    5 │ Akaroa      Canada                           4522   2015\n",
       "    6 │ Akaroa      China, Peoples Republic of       1507   2015\n",
       "    7 │ Akaroa      Denmark                           143   2015\n",
       "    8 │ Akaroa      France                            266   2015\n",
       "    9 │ Akaroa      Germany                          1202   2015\n",
       "   10 │ Akaroa      Hong Kong (Special Admin Reg)     417   2015\n",
       "   11 │ Akaroa      India                             118   2015\n",
       "  ⋮   │     ⋮                     ⋮                  ⋮       ⋮\n",
       " 2085 │ Tauranga    Total                          183243   2020\n",
       " 2086 │ Timaru      Total                            2089   2015\n",
       " 2087 │ Timaru      Total                            2546   2017\n",
       " 2088 │ Timaru      Total                            2197   2020\n",
       " 2089 │ Wellington  Total                          139331   2015\n",
       " 2090 │ Wellington  Total                          161335   2016\n",
       " 2091 │ Wellington  Total                          163871   2017\n",
       " 2092 │ Wellington  Total                          162223   2018\n",
       " 2093 │ Wellington  Total                          222448   2019\n",
       " 2094 │ Wellington  Total                          190754   2020\n",
       "\u001b[36m                                                2073 rows omitted\u001b[0m"
      ]
     },
     "execution_count": 3,
     "metadata": {},
     "output_type": "execute_result"
    }
   ],
   "source": [
    "# для удобства можно переименовать столбец для дальнейшей работы\n",
    "df2 = rename(df2, :\"NZ Port\" => :Port)"
   ]
  },
  {
   "cell_type": "code",
   "execution_count": 4,
   "metadata": {},
   "outputs": [
    {
     "data": {
      "text/html": [
       "<table class=\"data-frame\"><thead><tr><th></th><th>Year</th><th>Average</th></tr><tr><th></th><th>Int64</th><th>Float64</th></tr></thead><tbody><p>6 rows × 2 columns</p><tr><th>1</th><td>2015</td><td>7579.63</td></tr><tr><th>2</th><td>2016</td><td>7925.47</td></tr><tr><th>3</th><td>2017</td><td>7145.83</td></tr><tr><th>4</th><td>2018</td><td>7482.39</td></tr><tr><th>5</th><td>2019</td><td>8614.72</td></tr><tr><th>6</th><td>2020</td><td>7248.08</td></tr></tbody></table>"
      ],
      "text/latex": [
       "\\begin{tabular}{r|cc}\n",
       "\t& Year & Average\\\\\n",
       "\t\\hline\n",
       "\t& Int64 & Float64\\\\\n",
       "\t\\hline\n",
       "\t1 & 2015 & 7579.63 \\\\\n",
       "\t2 & 2016 & 7925.47 \\\\\n",
       "\t3 & 2017 & 7145.83 \\\\\n",
       "\t4 & 2018 & 7482.39 \\\\\n",
       "\t5 & 2019 & 8614.72 \\\\\n",
       "\t6 & 2020 & 7248.08 \\\\\n",
       "\\end{tabular}\n"
      ],
      "text/plain": [
       "\u001b[1m6×2 DataFrame\u001b[0m\n",
       "\u001b[1m Row \u001b[0m│\u001b[1m Year  \u001b[0m\u001b[1m Average \u001b[0m\n",
       "\u001b[1m     \u001b[0m│\u001b[90m Int64 \u001b[0m\u001b[90m Float64 \u001b[0m\n",
       "─────┼────────────────\n",
       "   1 │  2015  7579.63\n",
       "   2 │  2016  7925.47\n",
       "   3 │  2017  7145.83\n",
       "   4 │  2018  7482.39\n",
       "   5 │  2019  8614.72\n",
       "   6 │  2020  7248.08"
      ]
     },
     "execution_count": 4,
     "metadata": {},
     "output_type": "execute_result"
    }
   ],
   "source": [
    "# Используя данную, мы можем легко вычислить некоторые агрегированные значения по группам\n",
    "y = groupby(df2, :Year)\n",
    "year_mean = combine(y, :Count => mean => :Average)"
   ]
  },
  {
   "cell_type": "code",
   "execution_count": 5,
   "metadata": {},
   "outputs": [
    {
     "data": {
      "text/html": [
       "<table class=\"data-frame\"><thead><tr><th></th><th>Year</th><th>Average</th></tr><tr><th></th><th>Int64</th><th>Float64</th></tr></thead><tbody><p>6 rows × 2 columns</p><tr><th>1</th><td>2019</td><td>8614.72</td></tr><tr><th>2</th><td>2016</td><td>7925.47</td></tr><tr><th>3</th><td>2015</td><td>7579.63</td></tr><tr><th>4</th><td>2018</td><td>7482.39</td></tr><tr><th>5</th><td>2020</td><td>7248.08</td></tr><tr><th>6</th><td>2017</td><td>7145.83</td></tr></tbody></table>"
      ],
      "text/latex": [
       "\\begin{tabular}{r|cc}\n",
       "\t& Year & Average\\\\\n",
       "\t\\hline\n",
       "\t& Int64 & Float64\\\\\n",
       "\t\\hline\n",
       "\t1 & 2019 & 8614.72 \\\\\n",
       "\t2 & 2016 & 7925.47 \\\\\n",
       "\t3 & 2015 & 7579.63 \\\\\n",
       "\t4 & 2018 & 7482.39 \\\\\n",
       "\t5 & 2020 & 7248.08 \\\\\n",
       "\t6 & 2017 & 7145.83 \\\\\n",
       "\\end{tabular}\n"
      ],
      "text/plain": [
       "\u001b[1m6×2 DataFrame\u001b[0m\n",
       "\u001b[1m Row \u001b[0m│\u001b[1m Year  \u001b[0m\u001b[1m Average \u001b[0m\n",
       "\u001b[1m     \u001b[0m│\u001b[90m Int64 \u001b[0m\u001b[90m Float64 \u001b[0m\n",
       "─────┼────────────────\n",
       "   1 │  2019  8614.72\n",
       "   2 │  2016  7925.47\n",
       "   3 │  2015  7579.63\n",
       "   4 │  2018  7482.39\n",
       "   5 │  2020  7248.08\n",
       "   6 │  2017  7145.83"
      ]
     },
     "execution_count": 5,
     "metadata": {},
     "output_type": "execute_result"
    }
   ],
   "source": [
    "# данная функция возвращает отсортированные данные\n",
    "sort(year_mean, :Average, rev=true)"
   ]
  },
  {
   "cell_type": "code",
   "execution_count": 6,
   "metadata": {},
   "outputs": [
    {
     "data": {
      "text/plain": [
       "45×6 Named Array{Int64,2}\n",
       "           Citizenship ╲ Year │ 2015  2016  2017  2018  2019  2020\n",
       "──────────────────────────────┼───────────────────────────────────\n",
       "Argentina                     │    0     6     6     8     8     6\n",
       "Australia                     │   12    12    16    14    16    18\n",
       "Austria                       │    9     7     9     9    11     9\n",
       "Belgium                       │    7     7     7     8     8     8\n",
       "Brazil                        │    8     7     9     9     9     9\n",
       "Bulgaria                      │    0     0     0     0     2     3\n",
       "Canada                        │    9    10    11    12    14    15\n",
       "Chile                         │    3     4     1     7     8     3\n",
       "China, Peoples Republic of    │    9    11    11    11    10    10\n",
       "Colombia                      │    0     0     0     0     2     0\n",
       "Denmark                       │    6     7     7     8     9     9\n",
       "Finland                       │    1     2     7     3     8     5\n",
       "⋮                                  ⋮     ⋮     ⋮     ⋮     ⋮     ⋮\n",
       "Singapore                     │    8     9     9     9     9     9\n",
       "South Africa                  │    9     9     9     8     9     9\n",
       "Spain                         │    6     7     9     9     9     9\n",
       "Sweden                        │    7     8     7     9     9     9\n",
       "Switzerland                   │    9     9    11     9    11    10\n",
       "Taiwan                        │    7     7     9     9     9     9\n",
       "Thailand                      │    0     0     1     3     8     0\n",
       "Total                         │   17    15    20    15    18    19\n",
       "Ukraine                       │    0     0     0     0     2     0\n",
       "United Kingdom                │   12    11    15    14    14    16\n",
       "United States of America      │   13    11    16    14    15    17\n",
       "Vietnam                       │    0     0     0     0     0     2"
      ]
     },
     "execution_count": 6,
     "metadata": {},
     "output_type": "execute_result"
    }
   ],
   "source": [
    "#посмотрим, сколько раз каждая страна использовала порты в каждом году.\n",
    "freqtable(df2, :Citizenship, :Year)"
   ]
  },
  {
   "cell_type": "code",
   "execution_count": 49,
   "metadata": {},
   "outputs": [
    {
     "data": {
      "text/html": [
       "<table class=\"data-frame\"><thead><tr><th></th><th>Year</th><th>Port_function</th></tr><tr><th></th><th>Int64</th><th>Array…</th></tr></thead><tbody><p>6 rows × 2 columns</p><tr><th>1</th><td>2015</td><td>[\"Akaroa\", \"Auckland\", \"Bay of Islands\", \"Dunedin\", \"Fiordland\", \"Golden Bay\", \"Kaikoura\", \"Lyttelton\", \"Marlborough Sounds\", \"Napier\", \"Nelson\", \"Stewart Island\", \"Tauranga\", \"Timaru\", \"Wellington\", \"Chatham Islands\", \"Sub-Antarctic islands\"]</td></tr><tr><th>2</th><td>2016</td><td>[\"Akaroa\", \"Auckland\", \"Bay of Islands\", \"Bluff\", \"Dunedin\", \"Fiordland\", \"Gisborne\", \"Lyttelton\", \"Marlborough Sounds\", \"Napier\", \"Stewart Island\", \"Sub-Antarctic islands\", \"Tauranga\", \"Wellington\", \"New Plymouth\"]</td></tr><tr><th>3</th><td>2017</td><td>[\"Akaroa\", \"Auckland\", \"Bay of Islands\", \"Bluff\", \"Dunedin\", \"Fiordland\", \"Gisborne\", \"Golden Bay\", \"Kaikoura\", \"Lyttelton\", \"Marlborough Sounds\", \"Mercury Bay\", \"Napier\", \"Nelson\", \"New Plymouth\", \"Stewart Island\", \"Sub-Antarctic islands\", \"Tauranga\", \"Timaru\", \"Wellington\"]</td></tr><tr><th>4</th><td>2018</td><td>[\"Akaroa\", \"Auckland\", \"Bay of Islands\", \"Bluff\", \"Dunedin\", \"Fiordland\", \"Gisborne\", \"Kaikoura\", \"Lyttelton\", \"Marlborough Sounds\", \"Napier\", \"Nelson\", \"Stewart Island\", \"Tauranga\", \"Wellington\"]</td></tr><tr><th>5</th><td>2019</td><td>[\"Akaroa\", \"Auckland\", \"Bay of Islands\", \"Bluff\", \"Dunedin\", \"Fiordland\", \"Gisborne\", \"Golden Bay\", \"Kaikoura\", \"Lyttelton\", \"Marlborough Sounds\", \"Napier\", \"Nelson\", \"New Plymouth\", \"Stewart Island\", \"Sub-Antarctic islands\", \"Tauranga\", \"Wellington\"]</td></tr><tr><th>6</th><td>2020</td><td>[\"Akaroa\", \"Auckland\", \"Bay of Islands\", \"Bluff\", \"Dunedin\", \"Fiordland\", \"Gisborne\", \"Golden Bay\", \"Kaikoura\", \"Lyttelton\", \"Marlborough Sounds\", \"Napier\", \"Nelson\", \"New Plymouth\", \"Stewart Island\", \"Sub-Antarctic islands\", \"Tauranga\", \"Timaru\", \"Wellington\"]</td></tr></tbody></table>"
      ],
      "text/latex": [
       "\\begin{tabular}{r|cc}\n",
       "\t& Year & Port\\_function\\\\\n",
       "\t\\hline\n",
       "\t& Int64 & Array…\\\\\n",
       "\t\\hline\n",
       "\t1 & 2015 & [\"Akaroa\", \"Auckland\", \"Bay of Islands\", \"Dunedin\", \"Fiordland\", \"Golden Bay\", \"Kaikoura\", \"Lyttelton\", \"Marlborough Sounds\", \"Napier\", \"Nelson\", \"Stewart Island\", \"Tauranga\", \"Timaru\", \"Wellington\", \"Chatham Islands\", \"Sub-Antarctic islands\"] \\\\\n",
       "\t2 & 2016 & [\"Akaroa\", \"Auckland\", \"Bay of Islands\", \"Bluff\", \"Dunedin\", \"Fiordland\", \"Gisborne\", \"Lyttelton\", \"Marlborough Sounds\", \"Napier\", \"Stewart Island\", \"Sub-Antarctic islands\", \"Tauranga\", \"Wellington\", \"New Plymouth\"] \\\\\n",
       "\t3 & 2017 & [\"Akaroa\", \"Auckland\", \"Bay of Islands\", \"Bluff\", \"Dunedin\", \"Fiordland\", \"Gisborne\", \"Golden Bay\", \"Kaikoura\", \"Lyttelton\", \"Marlborough Sounds\", \"Mercury Bay\", \"Napier\", \"Nelson\", \"New Plymouth\", \"Stewart Island\", \"Sub-Antarctic islands\", \"Tauranga\", \"Timaru\", \"Wellington\"] \\\\\n",
       "\t4 & 2018 & [\"Akaroa\", \"Auckland\", \"Bay of Islands\", \"Bluff\", \"Dunedin\", \"Fiordland\", \"Gisborne\", \"Kaikoura\", \"Lyttelton\", \"Marlborough Sounds\", \"Napier\", \"Nelson\", \"Stewart Island\", \"Tauranga\", \"Wellington\"] \\\\\n",
       "\t5 & 2019 & [\"Akaroa\", \"Auckland\", \"Bay of Islands\", \"Bluff\", \"Dunedin\", \"Fiordland\", \"Gisborne\", \"Golden Bay\", \"Kaikoura\", \"Lyttelton\", \"Marlborough Sounds\", \"Napier\", \"Nelson\", \"New Plymouth\", \"Stewart Island\", \"Sub-Antarctic islands\", \"Tauranga\", \"Wellington\"] \\\\\n",
       "\t6 & 2020 & [\"Akaroa\", \"Auckland\", \"Bay of Islands\", \"Bluff\", \"Dunedin\", \"Fiordland\", \"Gisborne\", \"Golden Bay\", \"Kaikoura\", \"Lyttelton\", \"Marlborough Sounds\", \"Napier\", \"Nelson\", \"New Plymouth\", \"Stewart Island\", \"Sub-Antarctic islands\", \"Tauranga\", \"Timaru\", \"Wellington\"] \\\\\n",
       "\\end{tabular}\n"
      ],
      "text/plain": [
       "\u001b[1m6×2 DataFrame\u001b[0m\n",
       "\u001b[1m Row \u001b[0m│\u001b[1m Year  \u001b[0m\u001b[1m Port_function                     \u001b[0m\n",
       "\u001b[1m     \u001b[0m│\u001b[90m Int64 \u001b[0m\u001b[90m Array…                            \u001b[0m\n",
       "─────┼──────────────────────────────────────────\n",
       "   1 │  2015  [\"Akaroa\", \"Auckland\", \"Bay of I…\n",
       "   2 │  2016  [\"Akaroa\", \"Auckland\", \"Bay of I…\n",
       "   3 │  2017  [\"Akaroa\", \"Auckland\", \"Bay of I…\n",
       "   4 │  2018  [\"Akaroa\", \"Auckland\", \"Bay of I…\n",
       "   5 │  2019  [\"Akaroa\", \"Auckland\", \"Bay of I…\n",
       "   6 │  2020  [\"Akaroa\", \"Auckland\", \"Bay of I…"
      ]
     },
     "execution_count": 49,
     "metadata": {},
     "output_type": "execute_result"
    }
   ],
   "source": [
    "# Создаем новый Data Frame и создаем цепочку операций, _ обозначает позицию аргумента, переданного с предыдущего шага в цепочке\n",
    "# как итог мы получаем список уникальных портов, представленных отдельно для каждого года\n",
    "df3 = @pipe df2 |>\n",
    "                      groupby(_, :Year) |>\n",
    "                      combine(_, :Port => x -> Ref(unique(x)))"
   ]
  },
  {
   "cell_type": "code",
   "execution_count": 7,
   "metadata": {},
   "outputs": [
    {
     "data": {
      "text/html": [
       "<table class=\"data-frame\"><thead><tr><th></th><th>Year</th><th>Port_unique</th></tr><tr><th></th><th>Int64</th><th>String</th></tr></thead><tbody><p>104 rows × 2 columns</p><tr><th>1</th><td>2015</td><td>Akaroa</td></tr><tr><th>2</th><td>2015</td><td>Auckland</td></tr><tr><th>3</th><td>2015</td><td>Bay of Islands</td></tr><tr><th>4</th><td>2015</td><td>Dunedin</td></tr><tr><th>5</th><td>2015</td><td>Fiordland</td></tr><tr><th>6</th><td>2015</td><td>Golden Bay</td></tr><tr><th>7</th><td>2015</td><td>Kaikoura</td></tr><tr><th>8</th><td>2015</td><td>Lyttelton</td></tr><tr><th>9</th><td>2015</td><td>Marlborough Sounds</td></tr><tr><th>10</th><td>2015</td><td>Napier</td></tr><tr><th>11</th><td>2015</td><td>Nelson</td></tr><tr><th>12</th><td>2015</td><td>Stewart Island</td></tr><tr><th>13</th><td>2015</td><td>Tauranga</td></tr><tr><th>14</th><td>2015</td><td>Timaru</td></tr><tr><th>15</th><td>2015</td><td>Wellington</td></tr><tr><th>16</th><td>2015</td><td>Chatham Islands</td></tr><tr><th>17</th><td>2015</td><td>Sub-Antarctic islands</td></tr><tr><th>18</th><td>2016</td><td>Akaroa</td></tr><tr><th>19</th><td>2016</td><td>Auckland</td></tr><tr><th>20</th><td>2016</td><td>Bay of Islands</td></tr><tr><th>21</th><td>2016</td><td>Bluff</td></tr><tr><th>22</th><td>2016</td><td>Dunedin</td></tr><tr><th>23</th><td>2016</td><td>Fiordland</td></tr><tr><th>24</th><td>2016</td><td>Gisborne</td></tr><tr><th>25</th><td>2016</td><td>Lyttelton</td></tr><tr><th>26</th><td>2016</td><td>Marlborough Sounds</td></tr><tr><th>27</th><td>2016</td><td>Napier</td></tr><tr><th>28</th><td>2016</td><td>Stewart Island</td></tr><tr><th>29</th><td>2016</td><td>Sub-Antarctic islands</td></tr><tr><th>30</th><td>2016</td><td>Tauranga</td></tr><tr><th>&vellip;</th><td>&vellip;</td><td>&vellip;</td></tr></tbody></table>"
      ],
      "text/latex": [
       "\\begin{tabular}{r|cc}\n",
       "\t& Year & Port\\_unique\\\\\n",
       "\t\\hline\n",
       "\t& Int64 & String\\\\\n",
       "\t\\hline\n",
       "\t1 & 2015 & Akaroa \\\\\n",
       "\t2 & 2015 & Auckland \\\\\n",
       "\t3 & 2015 & Bay of Islands \\\\\n",
       "\t4 & 2015 & Dunedin \\\\\n",
       "\t5 & 2015 & Fiordland \\\\\n",
       "\t6 & 2015 & Golden Bay \\\\\n",
       "\t7 & 2015 & Kaikoura \\\\\n",
       "\t8 & 2015 & Lyttelton \\\\\n",
       "\t9 & 2015 & Marlborough Sounds \\\\\n",
       "\t10 & 2015 & Napier \\\\\n",
       "\t11 & 2015 & Nelson \\\\\n",
       "\t12 & 2015 & Stewart Island \\\\\n",
       "\t13 & 2015 & Tauranga \\\\\n",
       "\t14 & 2015 & Timaru \\\\\n",
       "\t15 & 2015 & Wellington \\\\\n",
       "\t16 & 2015 & Chatham Islands \\\\\n",
       "\t17 & 2015 & Sub-Antarctic islands \\\\\n",
       "\t18 & 2016 & Akaroa \\\\\n",
       "\t19 & 2016 & Auckland \\\\\n",
       "\t20 & 2016 & Bay of Islands \\\\\n",
       "\t21 & 2016 & Bluff \\\\\n",
       "\t22 & 2016 & Dunedin \\\\\n",
       "\t23 & 2016 & Fiordland \\\\\n",
       "\t24 & 2016 & Gisborne \\\\\n",
       "\t25 & 2016 & Lyttelton \\\\\n",
       "\t26 & 2016 & Marlborough Sounds \\\\\n",
       "\t27 & 2016 & Napier \\\\\n",
       "\t28 & 2016 & Stewart Island \\\\\n",
       "\t29 & 2016 & Sub-Antarctic islands \\\\\n",
       "\t30 & 2016 & Tauranga \\\\\n",
       "\t$\\dots$ & $\\dots$ & $\\dots$ \\\\\n",
       "\\end{tabular}\n"
      ],
      "text/plain": [
       "\u001b[1m104×2 DataFrame\u001b[0m\n",
       "\u001b[1m Row \u001b[0m│\u001b[1m Year  \u001b[0m\u001b[1m Port_unique           \u001b[0m\n",
       "\u001b[1m     \u001b[0m│\u001b[90m Int64 \u001b[0m\u001b[90m String                \u001b[0m\n",
       "─────┼──────────────────────────────\n",
       "   1 │  2015  Akaroa\n",
       "   2 │  2015  Auckland\n",
       "   3 │  2015  Bay of Islands\n",
       "   4 │  2015  Dunedin\n",
       "   5 │  2015  Fiordland\n",
       "   6 │  2015  Golden Bay\n",
       "   7 │  2015  Kaikoura\n",
       "   8 │  2015  Lyttelton\n",
       "   9 │  2015  Marlborough Sounds\n",
       "  10 │  2015  Napier\n",
       "  11 │  2015  Nelson\n",
       "  ⋮  │   ⋮              ⋮\n",
       "  95 │  2020  Lyttelton\n",
       "  96 │  2020  Marlborough Sounds\n",
       "  97 │  2020  Napier\n",
       "  98 │  2020  Nelson\n",
       "  99 │  2020  New Plymouth\n",
       " 100 │  2020  Stewart Island\n",
       " 101 │  2020  Sub-Antarctic islands\n",
       " 102 │  2020  Tauranga\n",
       " 103 │  2020  Timaru\n",
       " 104 │  2020  Wellington\n",
       "\u001b[36m                     83 rows omitted\u001b[0m"
      ]
     },
     "execution_count": 7,
     "metadata": {},
     "output_type": "execute_result"
    }
   ],
   "source": [
    "#Представим данные выше в другом формате.\n",
    "@pipe df2 |> groupby(_, :Year) |> combine(_, :Port => unique)"
   ]
  },
  {
   "cell_type": "markdown",
   "metadata": {},
   "source": [
    "# <b>Список источников по общим принципам работы с данными в Julia и их группировке<b>:"
   ]
  },
  {
   "cell_type": "markdown",
   "metadata": {},
   "source": [
    "1.https://github.com/JuliaAcademy/DataFrames/blob/main/4.%20Grouping%20data%20frames.ipynb <br>\n",
    "2.https://github.com/bkamins/Julia-DataFrames-Tutorial/blob/master/09_reshaping.ipynb <br>\n",
    "3.https://habr.com/ru/post/429994/ <br>\n",
    "4.https://dataframes.juliadata.org/stable/man/reshaping_and_pivoting/\n"
   ]
  },
  {
   "cell_type": "markdown",
   "metadata": {},
   "source": [
    "# <b>Ссылки на использованные датасеты<b>"
   ]
  },
  {
   "cell_type": "markdown",
   "metadata": {},
   "source": [
    "1.https://www.kaggle.com/kubi55/trial-dataset <br>\n",
    "2.https://www.stats.govt.nz/large-datasets/csv-files-for-download/"
   ]
  }
 ],
 "metadata": {
  "kernelspec": {
   "display_name": "Julia 1.5.3",
   "language": "julia",
   "name": "julia-1.5"
  },
  "language_info": {
   "file_extension": ".jl",
   "mimetype": "application/julia",
   "name": "julia",
   "version": "1.5.3"
  }
 },
 "nbformat": 4,
 "nbformat_minor": 4
}
